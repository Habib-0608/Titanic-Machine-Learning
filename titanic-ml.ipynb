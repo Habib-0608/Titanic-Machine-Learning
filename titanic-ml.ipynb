{
 "cells": [
  {
   "cell_type": "code",
   "execution_count": 1,
   "id": "sunrise-colony",
   "metadata": {
    "_cell_guid": "b1076dfc-b9ad-4769-8c92-a6c4dae69d19",
    "_uuid": "8f2839f25d086af736a60e9eeb907d3b93b6e0e5",
    "execution": {
     "iopub.execute_input": "2021-04-30T11:28:07.447367Z",
     "iopub.status.busy": "2021-04-30T11:28:07.446564Z",
     "iopub.status.idle": "2021-04-30T11:28:07.455525Z",
     "shell.execute_reply": "2021-04-30T11:28:07.454570Z"
    },
    "papermill": {
     "duration": 0.068143,
     "end_time": "2021-04-30T11:28:07.455752",
     "exception": false,
     "start_time": "2021-04-30T11:28:07.387609",
     "status": "completed"
    },
    "tags": []
   },
   "outputs": [
    {
     "name": "stdout",
     "output_type": "stream",
     "text": [
      "/kaggle/input/titanic/train.csv\n",
      "/kaggle/input/titanic/test.csv\n",
      "/kaggle/input/titanic/gender_submission.csv\n"
     ]
    }
   ],
   "source": [
    "# This Python 3 environment comes with many helpful analytics libraries installed\n",
    "# It is defined by the kaggle/python Docker image: https://github.com/kaggle/docker-python\n",
    "# For example, here's several helpful packages to load\n",
    "\n",
    "import numpy as np # linear algebra\n",
    "import pandas as pd # data processing, CSV file I/O (e.g. pd.read_csv)\n",
    "\n",
    "# Input data files are available in the read-only \"../input/\" directory\n",
    "# For example, running this (by clicking run or pressing Shift+Enter) will list all files under the input directory\n",
    "\n",
    "import os\n",
    "for dirname, _, filenames in os.walk('/kaggle/input'):\n",
    "    for filename in filenames:\n",
    "        print(os.path.join(dirname, filename))\n",
    "\n",
    "# You can write up to 20GB to the current directory (/kaggle/working/) that gets preserved as output when you create a version using \"Save & Run All\" \n",
    "# You can also write temporary files to /kaggle/temp/, but they won't be saved outside of the current session"
   ]
  },
  {
   "cell_type": "code",
   "execution_count": 2,
   "id": "composite-relaxation",
   "metadata": {
    "execution": {
     "iopub.execute_input": "2021-04-30T11:28:07.555869Z",
     "iopub.status.busy": "2021-04-30T11:28:07.555014Z",
     "iopub.status.idle": "2021-04-30T11:28:08.689373Z",
     "shell.execute_reply": "2021-04-30T11:28:08.688443Z"
    },
    "papermill": {
     "duration": 1.189091,
     "end_time": "2021-04-30T11:28:08.689561",
     "exception": false,
     "start_time": "2021-04-30T11:28:07.500470",
     "status": "completed"
    },
    "tags": []
   },
   "outputs": [],
   "source": [
    "import numpy as np\n",
    "import matplotlib.pyplot as plt\n",
    "%matplotlib inline\n",
    "import pandas as pd\n",
    "import seaborn as sns\n",
    "sns.set()"
   ]
  },
  {
   "cell_type": "code",
   "execution_count": 3,
   "id": "marine-protest",
   "metadata": {
    "execution": {
     "iopub.execute_input": "2021-04-30T11:28:08.787303Z",
     "iopub.status.busy": "2021-04-30T11:28:08.786397Z",
     "iopub.status.idle": "2021-04-30T11:28:08.822204Z",
     "shell.execute_reply": "2021-04-30T11:28:08.821473Z"
    },
    "papermill": {
     "duration": 0.08764,
     "end_time": "2021-04-30T11:28:08.822390",
     "exception": false,
     "start_time": "2021-04-30T11:28:08.734750",
     "status": "completed"
    },
    "tags": []
   },
   "outputs": [],
   "source": [
    "train = pd.read_csv('/kaggle/input/titanic/train.csv')\n",
    "test=pd.read_csv('/kaggle/input/titanic/test.csv')"
   ]
  },
  {
   "cell_type": "code",
   "execution_count": 4,
   "id": "endangered-links",
   "metadata": {
    "execution": {
     "iopub.execute_input": "2021-04-30T11:28:08.924400Z",
     "iopub.status.busy": "2021-04-30T11:28:08.923175Z",
     "iopub.status.idle": "2021-04-30T11:28:08.957249Z",
     "shell.execute_reply": "2021-04-30T11:28:08.957802Z"
    },
    "papermill": {
     "duration": 0.092193,
     "end_time": "2021-04-30T11:28:08.958034",
     "exception": false,
     "start_time": "2021-04-30T11:28:08.865841",
     "status": "completed"
    },
    "tags": []
   },
   "outputs": [
    {
     "data": {
      "text/html": [
       "<div>\n",
       "<style scoped>\n",
       "    .dataframe tbody tr th:only-of-type {\n",
       "        vertical-align: middle;\n",
       "    }\n",
       "\n",
       "    .dataframe tbody tr th {\n",
       "        vertical-align: top;\n",
       "    }\n",
       "\n",
       "    .dataframe thead th {\n",
       "        text-align: right;\n",
       "    }\n",
       "</style>\n",
       "<table border=\"1\" class=\"dataframe\">\n",
       "  <thead>\n",
       "    <tr style=\"text-align: right;\">\n",
       "      <th></th>\n",
       "      <th>PassengerId</th>\n",
       "      <th>Survived</th>\n",
       "      <th>Pclass</th>\n",
       "      <th>Name</th>\n",
       "      <th>Sex</th>\n",
       "      <th>Age</th>\n",
       "      <th>SibSp</th>\n",
       "      <th>Parch</th>\n",
       "      <th>Ticket</th>\n",
       "      <th>Fare</th>\n",
       "      <th>Cabin</th>\n",
       "      <th>Embarked</th>\n",
       "    </tr>\n",
       "  </thead>\n",
       "  <tbody>\n",
       "    <tr>\n",
       "      <th>0</th>\n",
       "      <td>1</td>\n",
       "      <td>0</td>\n",
       "      <td>3</td>\n",
       "      <td>Braund, Mr. Owen Harris</td>\n",
       "      <td>male</td>\n",
       "      <td>22.0</td>\n",
       "      <td>1</td>\n",
       "      <td>0</td>\n",
       "      <td>A/5 21171</td>\n",
       "      <td>7.2500</td>\n",
       "      <td>NaN</td>\n",
       "      <td>S</td>\n",
       "    </tr>\n",
       "    <tr>\n",
       "      <th>1</th>\n",
       "      <td>2</td>\n",
       "      <td>1</td>\n",
       "      <td>1</td>\n",
       "      <td>Cumings, Mrs. John Bradley (Florence Briggs Th...</td>\n",
       "      <td>female</td>\n",
       "      <td>38.0</td>\n",
       "      <td>1</td>\n",
       "      <td>0</td>\n",
       "      <td>PC 17599</td>\n",
       "      <td>71.2833</td>\n",
       "      <td>C85</td>\n",
       "      <td>C</td>\n",
       "    </tr>\n",
       "    <tr>\n",
       "      <th>2</th>\n",
       "      <td>3</td>\n",
       "      <td>1</td>\n",
       "      <td>3</td>\n",
       "      <td>Heikkinen, Miss. Laina</td>\n",
       "      <td>female</td>\n",
       "      <td>26.0</td>\n",
       "      <td>0</td>\n",
       "      <td>0</td>\n",
       "      <td>STON/O2. 3101282</td>\n",
       "      <td>7.9250</td>\n",
       "      <td>NaN</td>\n",
       "      <td>S</td>\n",
       "    </tr>\n",
       "    <tr>\n",
       "      <th>3</th>\n",
       "      <td>4</td>\n",
       "      <td>1</td>\n",
       "      <td>1</td>\n",
       "      <td>Futrelle, Mrs. Jacques Heath (Lily May Peel)</td>\n",
       "      <td>female</td>\n",
       "      <td>35.0</td>\n",
       "      <td>1</td>\n",
       "      <td>0</td>\n",
       "      <td>113803</td>\n",
       "      <td>53.1000</td>\n",
       "      <td>C123</td>\n",
       "      <td>S</td>\n",
       "    </tr>\n",
       "    <tr>\n",
       "      <th>4</th>\n",
       "      <td>5</td>\n",
       "      <td>0</td>\n",
       "      <td>3</td>\n",
       "      <td>Allen, Mr. William Henry</td>\n",
       "      <td>male</td>\n",
       "      <td>35.0</td>\n",
       "      <td>0</td>\n",
       "      <td>0</td>\n",
       "      <td>373450</td>\n",
       "      <td>8.0500</td>\n",
       "      <td>NaN</td>\n",
       "      <td>S</td>\n",
       "    </tr>\n",
       "    <tr>\n",
       "      <th>5</th>\n",
       "      <td>6</td>\n",
       "      <td>0</td>\n",
       "      <td>3</td>\n",
       "      <td>Moran, Mr. James</td>\n",
       "      <td>male</td>\n",
       "      <td>NaN</td>\n",
       "      <td>0</td>\n",
       "      <td>0</td>\n",
       "      <td>330877</td>\n",
       "      <td>8.4583</td>\n",
       "      <td>NaN</td>\n",
       "      <td>Q</td>\n",
       "    </tr>\n",
       "    <tr>\n",
       "      <th>6</th>\n",
       "      <td>7</td>\n",
       "      <td>0</td>\n",
       "      <td>1</td>\n",
       "      <td>McCarthy, Mr. Timothy J</td>\n",
       "      <td>male</td>\n",
       "      <td>54.0</td>\n",
       "      <td>0</td>\n",
       "      <td>0</td>\n",
       "      <td>17463</td>\n",
       "      <td>51.8625</td>\n",
       "      <td>E46</td>\n",
       "      <td>S</td>\n",
       "    </tr>\n",
       "    <tr>\n",
       "      <th>7</th>\n",
       "      <td>8</td>\n",
       "      <td>0</td>\n",
       "      <td>3</td>\n",
       "      <td>Palsson, Master. Gosta Leonard</td>\n",
       "      <td>male</td>\n",
       "      <td>2.0</td>\n",
       "      <td>3</td>\n",
       "      <td>1</td>\n",
       "      <td>349909</td>\n",
       "      <td>21.0750</td>\n",
       "      <td>NaN</td>\n",
       "      <td>S</td>\n",
       "    </tr>\n",
       "    <tr>\n",
       "      <th>8</th>\n",
       "      <td>9</td>\n",
       "      <td>1</td>\n",
       "      <td>3</td>\n",
       "      <td>Johnson, Mrs. Oscar W (Elisabeth Vilhelmina Berg)</td>\n",
       "      <td>female</td>\n",
       "      <td>27.0</td>\n",
       "      <td>0</td>\n",
       "      <td>2</td>\n",
       "      <td>347742</td>\n",
       "      <td>11.1333</td>\n",
       "      <td>NaN</td>\n",
       "      <td>S</td>\n",
       "    </tr>\n",
       "    <tr>\n",
       "      <th>9</th>\n",
       "      <td>10</td>\n",
       "      <td>1</td>\n",
       "      <td>2</td>\n",
       "      <td>Nasser, Mrs. Nicholas (Adele Achem)</td>\n",
       "      <td>female</td>\n",
       "      <td>14.0</td>\n",
       "      <td>1</td>\n",
       "      <td>0</td>\n",
       "      <td>237736</td>\n",
       "      <td>30.0708</td>\n",
       "      <td>NaN</td>\n",
       "      <td>C</td>\n",
       "    </tr>\n",
       "  </tbody>\n",
       "</table>\n",
       "</div>"
      ],
      "text/plain": [
       "   PassengerId  Survived  Pclass  \\\n",
       "0            1         0       3   \n",
       "1            2         1       1   \n",
       "2            3         1       3   \n",
       "3            4         1       1   \n",
       "4            5         0       3   \n",
       "5            6         0       3   \n",
       "6            7         0       1   \n",
       "7            8         0       3   \n",
       "8            9         1       3   \n",
       "9           10         1       2   \n",
       "\n",
       "                                                Name     Sex   Age  SibSp  \\\n",
       "0                            Braund, Mr. Owen Harris    male  22.0      1   \n",
       "1  Cumings, Mrs. John Bradley (Florence Briggs Th...  female  38.0      1   \n",
       "2                             Heikkinen, Miss. Laina  female  26.0      0   \n",
       "3       Futrelle, Mrs. Jacques Heath (Lily May Peel)  female  35.0      1   \n",
       "4                           Allen, Mr. William Henry    male  35.0      0   \n",
       "5                                   Moran, Mr. James    male   NaN      0   \n",
       "6                            McCarthy, Mr. Timothy J    male  54.0      0   \n",
       "7                     Palsson, Master. Gosta Leonard    male   2.0      3   \n",
       "8  Johnson, Mrs. Oscar W (Elisabeth Vilhelmina Berg)  female  27.0      0   \n",
       "9                Nasser, Mrs. Nicholas (Adele Achem)  female  14.0      1   \n",
       "\n",
       "   Parch            Ticket     Fare Cabin Embarked  \n",
       "0      0         A/5 21171   7.2500   NaN        S  \n",
       "1      0          PC 17599  71.2833   C85        C  \n",
       "2      0  STON/O2. 3101282   7.9250   NaN        S  \n",
       "3      0            113803  53.1000  C123        S  \n",
       "4      0            373450   8.0500   NaN        S  \n",
       "5      0            330877   8.4583   NaN        Q  \n",
       "6      0             17463  51.8625   E46        S  \n",
       "7      1            349909  21.0750   NaN        S  \n",
       "8      2            347742  11.1333   NaN        S  \n",
       "9      0            237736  30.0708   NaN        C  "
      ]
     },
     "execution_count": 4,
     "metadata": {},
     "output_type": "execute_result"
    }
   ],
   "source": [
    "train.head(10)"
   ]
  },
  {
   "cell_type": "code",
   "execution_count": 5,
   "id": "square-emphasis",
   "metadata": {
    "execution": {
     "iopub.execute_input": "2021-04-30T11:28:09.054065Z",
     "iopub.status.busy": "2021-04-30T11:28:09.052784Z",
     "iopub.status.idle": "2021-04-30T11:28:09.075307Z",
     "shell.execute_reply": "2021-04-30T11:28:09.075923Z"
    },
    "papermill": {
     "duration": 0.073468,
     "end_time": "2021-04-30T11:28:09.076166",
     "exception": false,
     "start_time": "2021-04-30T11:28:09.002698",
     "status": "completed"
    },
    "tags": []
   },
   "outputs": [
    {
     "data": {
      "text/html": [
       "<div>\n",
       "<style scoped>\n",
       "    .dataframe tbody tr th:only-of-type {\n",
       "        vertical-align: middle;\n",
       "    }\n",
       "\n",
       "    .dataframe tbody tr th {\n",
       "        vertical-align: top;\n",
       "    }\n",
       "\n",
       "    .dataframe thead th {\n",
       "        text-align: right;\n",
       "    }\n",
       "</style>\n",
       "<table border=\"1\" class=\"dataframe\">\n",
       "  <thead>\n",
       "    <tr style=\"text-align: right;\">\n",
       "      <th></th>\n",
       "      <th>PassengerId</th>\n",
       "      <th>Pclass</th>\n",
       "      <th>Name</th>\n",
       "      <th>Sex</th>\n",
       "      <th>Age</th>\n",
       "      <th>SibSp</th>\n",
       "      <th>Parch</th>\n",
       "      <th>Ticket</th>\n",
       "      <th>Fare</th>\n",
       "      <th>Cabin</th>\n",
       "      <th>Embarked</th>\n",
       "    </tr>\n",
       "  </thead>\n",
       "  <tbody>\n",
       "    <tr>\n",
       "      <th>0</th>\n",
       "      <td>892</td>\n",
       "      <td>3</td>\n",
       "      <td>Kelly, Mr. James</td>\n",
       "      <td>male</td>\n",
       "      <td>34.5</td>\n",
       "      <td>0</td>\n",
       "      <td>0</td>\n",
       "      <td>330911</td>\n",
       "      <td>7.8292</td>\n",
       "      <td>NaN</td>\n",
       "      <td>Q</td>\n",
       "    </tr>\n",
       "    <tr>\n",
       "      <th>1</th>\n",
       "      <td>893</td>\n",
       "      <td>3</td>\n",
       "      <td>Wilkes, Mrs. James (Ellen Needs)</td>\n",
       "      <td>female</td>\n",
       "      <td>47.0</td>\n",
       "      <td>1</td>\n",
       "      <td>0</td>\n",
       "      <td>363272</td>\n",
       "      <td>7.0000</td>\n",
       "      <td>NaN</td>\n",
       "      <td>S</td>\n",
       "    </tr>\n",
       "    <tr>\n",
       "      <th>2</th>\n",
       "      <td>894</td>\n",
       "      <td>2</td>\n",
       "      <td>Myles, Mr. Thomas Francis</td>\n",
       "      <td>male</td>\n",
       "      <td>62.0</td>\n",
       "      <td>0</td>\n",
       "      <td>0</td>\n",
       "      <td>240276</td>\n",
       "      <td>9.6875</td>\n",
       "      <td>NaN</td>\n",
       "      <td>Q</td>\n",
       "    </tr>\n",
       "    <tr>\n",
       "      <th>3</th>\n",
       "      <td>895</td>\n",
       "      <td>3</td>\n",
       "      <td>Wirz, Mr. Albert</td>\n",
       "      <td>male</td>\n",
       "      <td>27.0</td>\n",
       "      <td>0</td>\n",
       "      <td>0</td>\n",
       "      <td>315154</td>\n",
       "      <td>8.6625</td>\n",
       "      <td>NaN</td>\n",
       "      <td>S</td>\n",
       "    </tr>\n",
       "    <tr>\n",
       "      <th>4</th>\n",
       "      <td>896</td>\n",
       "      <td>3</td>\n",
       "      <td>Hirvonen, Mrs. Alexander (Helga E Lindqvist)</td>\n",
       "      <td>female</td>\n",
       "      <td>22.0</td>\n",
       "      <td>1</td>\n",
       "      <td>1</td>\n",
       "      <td>3101298</td>\n",
       "      <td>12.2875</td>\n",
       "      <td>NaN</td>\n",
       "      <td>S</td>\n",
       "    </tr>\n",
       "    <tr>\n",
       "      <th>5</th>\n",
       "      <td>897</td>\n",
       "      <td>3</td>\n",
       "      <td>Svensson, Mr. Johan Cervin</td>\n",
       "      <td>male</td>\n",
       "      <td>14.0</td>\n",
       "      <td>0</td>\n",
       "      <td>0</td>\n",
       "      <td>7538</td>\n",
       "      <td>9.2250</td>\n",
       "      <td>NaN</td>\n",
       "      <td>S</td>\n",
       "    </tr>\n",
       "    <tr>\n",
       "      <th>6</th>\n",
       "      <td>898</td>\n",
       "      <td>3</td>\n",
       "      <td>Connolly, Miss. Kate</td>\n",
       "      <td>female</td>\n",
       "      <td>30.0</td>\n",
       "      <td>0</td>\n",
       "      <td>0</td>\n",
       "      <td>330972</td>\n",
       "      <td>7.6292</td>\n",
       "      <td>NaN</td>\n",
       "      <td>Q</td>\n",
       "    </tr>\n",
       "    <tr>\n",
       "      <th>7</th>\n",
       "      <td>899</td>\n",
       "      <td>2</td>\n",
       "      <td>Caldwell, Mr. Albert Francis</td>\n",
       "      <td>male</td>\n",
       "      <td>26.0</td>\n",
       "      <td>1</td>\n",
       "      <td>1</td>\n",
       "      <td>248738</td>\n",
       "      <td>29.0000</td>\n",
       "      <td>NaN</td>\n",
       "      <td>S</td>\n",
       "    </tr>\n",
       "    <tr>\n",
       "      <th>8</th>\n",
       "      <td>900</td>\n",
       "      <td>3</td>\n",
       "      <td>Abrahim, Mrs. Joseph (Sophie Halaut Easu)</td>\n",
       "      <td>female</td>\n",
       "      <td>18.0</td>\n",
       "      <td>0</td>\n",
       "      <td>0</td>\n",
       "      <td>2657</td>\n",
       "      <td>7.2292</td>\n",
       "      <td>NaN</td>\n",
       "      <td>C</td>\n",
       "    </tr>\n",
       "    <tr>\n",
       "      <th>9</th>\n",
       "      <td>901</td>\n",
       "      <td>3</td>\n",
       "      <td>Davies, Mr. John Samuel</td>\n",
       "      <td>male</td>\n",
       "      <td>21.0</td>\n",
       "      <td>2</td>\n",
       "      <td>0</td>\n",
       "      <td>A/4 48871</td>\n",
       "      <td>24.1500</td>\n",
       "      <td>NaN</td>\n",
       "      <td>S</td>\n",
       "    </tr>\n",
       "  </tbody>\n",
       "</table>\n",
       "</div>"
      ],
      "text/plain": [
       "   PassengerId  Pclass                                          Name     Sex  \\\n",
       "0          892       3                              Kelly, Mr. James    male   \n",
       "1          893       3              Wilkes, Mrs. James (Ellen Needs)  female   \n",
       "2          894       2                     Myles, Mr. Thomas Francis    male   \n",
       "3          895       3                              Wirz, Mr. Albert    male   \n",
       "4          896       3  Hirvonen, Mrs. Alexander (Helga E Lindqvist)  female   \n",
       "5          897       3                    Svensson, Mr. Johan Cervin    male   \n",
       "6          898       3                          Connolly, Miss. Kate  female   \n",
       "7          899       2                  Caldwell, Mr. Albert Francis    male   \n",
       "8          900       3     Abrahim, Mrs. Joseph (Sophie Halaut Easu)  female   \n",
       "9          901       3                       Davies, Mr. John Samuel    male   \n",
       "\n",
       "    Age  SibSp  Parch     Ticket     Fare Cabin Embarked  \n",
       "0  34.5      0      0     330911   7.8292   NaN        Q  \n",
       "1  47.0      1      0     363272   7.0000   NaN        S  \n",
       "2  62.0      0      0     240276   9.6875   NaN        Q  \n",
       "3  27.0      0      0     315154   8.6625   NaN        S  \n",
       "4  22.0      1      1    3101298  12.2875   NaN        S  \n",
       "5  14.0      0      0       7538   9.2250   NaN        S  \n",
       "6  30.0      0      0     330972   7.6292   NaN        Q  \n",
       "7  26.0      1      1     248738  29.0000   NaN        S  \n",
       "8  18.0      0      0       2657   7.2292   NaN        C  \n",
       "9  21.0      2      0  A/4 48871  24.1500   NaN        S  "
      ]
     },
     "execution_count": 5,
     "metadata": {},
     "output_type": "execute_result"
    }
   ],
   "source": [
    "test.head(10)"
   ]
  },
  {
   "cell_type": "code",
   "execution_count": 6,
   "id": "driving-sculpture",
   "metadata": {
    "execution": {
     "iopub.execute_input": "2021-04-30T11:28:09.177501Z",
     "iopub.status.busy": "2021-04-30T11:28:09.176391Z",
     "iopub.status.idle": "2021-04-30T11:28:09.203887Z",
     "shell.execute_reply": "2021-04-30T11:28:09.204637Z"
    },
    "papermill": {
     "duration": 0.081498,
     "end_time": "2021-04-30T11:28:09.204866",
     "exception": false,
     "start_time": "2021-04-30T11:28:09.123368",
     "status": "completed"
    },
    "tags": []
   },
   "outputs": [
    {
     "name": "stdout",
     "output_type": "stream",
     "text": [
      "<class 'pandas.core.frame.DataFrame'>\n",
      "RangeIndex: 891 entries, 0 to 890\n",
      "Data columns (total 12 columns):\n",
      " #   Column       Non-Null Count  Dtype  \n",
      "---  ------       --------------  -----  \n",
      " 0   PassengerId  891 non-null    int64  \n",
      " 1   Survived     891 non-null    int64  \n",
      " 2   Pclass       891 non-null    int64  \n",
      " 3   Name         891 non-null    object \n",
      " 4   Sex          891 non-null    object \n",
      " 5   Age          714 non-null    float64\n",
      " 6   SibSp        891 non-null    int64  \n",
      " 7   Parch        891 non-null    int64  \n",
      " 8   Ticket       891 non-null    object \n",
      " 9   Fare         891 non-null    float64\n",
      " 10  Cabin        204 non-null    object \n",
      " 11  Embarked     889 non-null    object \n",
      "dtypes: float64(2), int64(5), object(5)\n",
      "memory usage: 83.7+ KB\n"
     ]
    }
   ],
   "source": [
    "train.info()"
   ]
  },
  {
   "cell_type": "code",
   "execution_count": 7,
   "id": "blond-thickness",
   "metadata": {
    "execution": {
     "iopub.execute_input": "2021-04-30T11:28:09.305803Z",
     "iopub.status.busy": "2021-04-30T11:28:09.304509Z",
     "iopub.status.idle": "2021-04-30T11:28:09.323687Z",
     "shell.execute_reply": "2021-04-30T11:28:09.323011Z"
    },
    "papermill": {
     "duration": 0.06926,
     "end_time": "2021-04-30T11:28:09.323872",
     "exception": false,
     "start_time": "2021-04-30T11:28:09.254612",
     "status": "completed"
    },
    "tags": []
   },
   "outputs": [
    {
     "name": "stdout",
     "output_type": "stream",
     "text": [
      "<class 'pandas.core.frame.DataFrame'>\n",
      "RangeIndex: 418 entries, 0 to 417\n",
      "Data columns (total 11 columns):\n",
      " #   Column       Non-Null Count  Dtype  \n",
      "---  ------       --------------  -----  \n",
      " 0   PassengerId  418 non-null    int64  \n",
      " 1   Pclass       418 non-null    int64  \n",
      " 2   Name         418 non-null    object \n",
      " 3   Sex          418 non-null    object \n",
      " 4   Age          332 non-null    float64\n",
      " 5   SibSp        418 non-null    int64  \n",
      " 6   Parch        418 non-null    int64  \n",
      " 7   Ticket       418 non-null    object \n",
      " 8   Fare         417 non-null    float64\n",
      " 9   Cabin        91 non-null     object \n",
      " 10  Embarked     418 non-null    object \n",
      "dtypes: float64(2), int64(4), object(5)\n",
      "memory usage: 36.0+ KB\n"
     ]
    }
   ],
   "source": [
    "test.info()"
   ]
  },
  {
   "cell_type": "code",
   "execution_count": 8,
   "id": "figured-latvia",
   "metadata": {
    "execution": {
     "iopub.execute_input": "2021-04-30T11:28:09.431644Z",
     "iopub.status.busy": "2021-04-30T11:28:09.430679Z",
     "iopub.status.idle": "2021-04-30T11:28:09.434512Z",
     "shell.execute_reply": "2021-04-30T11:28:09.435048Z"
    },
    "papermill": {
     "duration": 0.064216,
     "end_time": "2021-04-30T11:28:09.435277",
     "exception": false,
     "start_time": "2021-04-30T11:28:09.371061",
     "status": "completed"
    },
    "tags": []
   },
   "outputs": [
    {
     "data": {
      "text/plain": [
       "PassengerId      0\n",
       "Survived         0\n",
       "Pclass           0\n",
       "Name             0\n",
       "Sex              0\n",
       "Age            177\n",
       "SibSp            0\n",
       "Parch            0\n",
       "Ticket           0\n",
       "Fare             0\n",
       "Cabin          687\n",
       "Embarked         2\n",
       "dtype: int64"
      ]
     },
     "execution_count": 8,
     "metadata": {},
     "output_type": "execute_result"
    }
   ],
   "source": [
    "train.isnull().sum()"
   ]
  },
  {
   "cell_type": "code",
   "execution_count": 9,
   "id": "excessive-postage",
   "metadata": {
    "execution": {
     "iopub.execute_input": "2021-04-30T11:28:09.537389Z",
     "iopub.status.busy": "2021-04-30T11:28:09.536518Z",
     "iopub.status.idle": "2021-04-30T11:28:09.547099Z",
     "shell.execute_reply": "2021-04-30T11:28:09.547788Z"
    },
    "papermill": {
     "duration": 0.064869,
     "end_time": "2021-04-30T11:28:09.548032",
     "exception": false,
     "start_time": "2021-04-30T11:28:09.483163",
     "status": "completed"
    },
    "tags": []
   },
   "outputs": [
    {
     "data": {
      "text/plain": [
       "PassengerId      0\n",
       "Pclass           0\n",
       "Name             0\n",
       "Sex              0\n",
       "Age             86\n",
       "SibSp            0\n",
       "Parch            0\n",
       "Ticket           0\n",
       "Fare             1\n",
       "Cabin          327\n",
       "Embarked         0\n",
       "dtype: int64"
      ]
     },
     "execution_count": 9,
     "metadata": {},
     "output_type": "execute_result"
    }
   ],
   "source": [
    "test.isnull().sum()"
   ]
  },
  {
   "cell_type": "code",
   "execution_count": 10,
   "id": "precious-pulse",
   "metadata": {
    "execution": {
     "iopub.execute_input": "2021-04-30T11:28:09.650664Z",
     "iopub.status.busy": "2021-04-30T11:28:09.649730Z",
     "iopub.status.idle": "2021-04-30T11:28:09.656426Z",
     "shell.execute_reply": "2021-04-30T11:28:09.657125Z"
    },
    "papermill": {
     "duration": 0.060448,
     "end_time": "2021-04-30T11:28:09.657366",
     "exception": false,
     "start_time": "2021-04-30T11:28:09.596918",
     "status": "completed"
    },
    "tags": []
   },
   "outputs": [],
   "source": [
    "def bar_plot(feature):\n",
    "  survived=train[train['Survived']==1][feature].value_counts()\n",
    "  dead=train[train['Survived']==0][feature].value_counts()\n",
    "  dataset=pd.DataFrame([survived,dead])\n",
    "  dataset.index=['Survived','Dead']\n",
    "  return dataset.plot.bar(figsize=(10,5))\n"
   ]
  },
  {
   "cell_type": "code",
   "execution_count": 11,
   "id": "traditional-habitat",
   "metadata": {
    "execution": {
     "iopub.execute_input": "2021-04-30T11:28:09.762123Z",
     "iopub.status.busy": "2021-04-30T11:28:09.761283Z",
     "iopub.status.idle": "2021-04-30T11:28:10.053547Z",
     "shell.execute_reply": "2021-04-30T11:28:10.052536Z"
    },
    "papermill": {
     "duration": 0.344516,
     "end_time": "2021-04-30T11:28:10.053777",
     "exception": false,
     "start_time": "2021-04-30T11:28:09.709261",
     "status": "completed"
    },
    "tags": []
   },
   "outputs": [
    {
     "data": {
      "text/plain": [
       "<AxesSubplot:>"
      ]
     },
     "execution_count": 11,
     "metadata": {},
     "output_type": "execute_result"
    },
    {
     "data": {
      "image/png": "[encoded data removed]",
      "text/plain": [
       "<Figure size 720x360 with 1 Axes>"
      ]
     },
     "metadata": {},
     "output_type": "display_data"
    }
   ],
   "source": [
    "bar_plot('Sex')"
   ]
  },
  {
   "cell_type": "code",
   "execution_count": 12,
   "id": "dedicated-extra",
   "metadata": {
    "execution": {
     "iopub.execute_input": "2021-04-30T11:28:10.201564Z",
     "iopub.status.busy": "2021-04-30T11:28:10.166153Z",
     "iopub.status.idle": "2021-04-30T11:28:10.398825Z",
     "shell.execute_reply": "2021-04-30T11:28:10.398091Z"
    },
    "papermill": {
     "duration": 0.29419,
     "end_time": "2021-04-30T11:28:10.399017",
     "exception": false,
     "start_time": "2021-04-30T11:28:10.104827",
     "status": "completed"
    },
    "tags": []
   },
   "outputs": [
    {
     "data": {
      "text/plain": [
       "<AxesSubplot:>"
      ]
     },
     "execution_count": 12,
     "metadata": {},
     "output_type": "execute_result"
    },
    {
     "data": {
      "image/png": "[encoded data removed]",
      "text/plain": [
       "<Figure size 720x360 with 1 Axes>"
      ]
     },
     "metadata": {},
     "output_type": "display_data"
    }
   ],
   "source": [
    "bar_plot('Embarked')"
   ]
  },
  {
   "cell_type": "code",
   "execution_count": 13,
   "id": "timely-flood",
   "metadata": {
    "execution": {
     "iopub.execute_input": "2021-04-30T11:28:10.517871Z",
     "iopub.status.busy": "2021-04-30T11:28:10.511775Z",
     "iopub.status.idle": "2021-04-30T11:28:10.784776Z",
     "shell.execute_reply": "2021-04-30T11:28:10.783924Z"
    },
    "papermill": {
     "duration": 0.334665,
     "end_time": "2021-04-30T11:28:10.784997",
     "exception": false,
     "start_time": "2021-04-30T11:28:10.450332",
     "status": "completed"
    },
    "tags": []
   },
   "outputs": [
    {
     "data": {
      "text/plain": [
       "<AxesSubplot:>"
      ]
     },
     "execution_count": 13,
     "metadata": {},
     "output_type": "execute_result"
    },
    {
     "data": {
      "image/png": "[encoded data removed]",
      "text/plain": [
       "<Figure size 720x360 with 1 Axes>"
      ]
     },
     "metadata": {},
     "output_type": "display_data"
    }
   ],
   "source": [
    "bar_plot('SibSp')"
   ]
  },
  {
   "cell_type": "code",
   "execution_count": 14,
   "id": "homeless-vancouver",
   "metadata": {
    "execution": {
     "iopub.execute_input": "2021-04-30T11:28:10.932694Z",
     "iopub.status.busy": "2021-04-30T11:28:10.931536Z",
     "iopub.status.idle": "2021-04-30T11:28:11.123247Z",
     "shell.execute_reply": "2021-04-30T11:28:11.122410Z"
    },
    "papermill": {
     "duration": 0.281838,
     "end_time": "2021-04-30T11:28:11.123442",
     "exception": false,
     "start_time": "2021-04-30T11:28:10.841604",
     "status": "completed"
    },
    "tags": []
   },
   "outputs": [
    {
     "data": {
      "text/plain": [
       "<AxesSubplot:>"
      ]
     },
     "execution_count": 14,
     "metadata": {},
     "output_type": "execute_result"
    },
    {
     "data": {
      "image/png": "[encoded data removed]",
      "text/plain": [
       "<Figure size 720x360 with 1 Axes>"
      ]
     },
     "metadata": {},
     "output_type": "display_data"
    }
   ],
   "source": [
    "bar_plot('Pclass')"
   ]
  },
  {
   "cell_type": "code",
   "execution_count": 15,
   "id": "personal-evolution",
   "metadata": {
    "execution": {
     "iopub.execute_input": "2021-04-30T11:28:11.272840Z",
     "iopub.status.busy": "2021-04-30T11:28:11.271737Z",
     "iopub.status.idle": "2021-04-30T11:28:11.277923Z",
     "shell.execute_reply": "2021-04-30T11:28:11.277190Z"
    },
    "papermill": {
     "duration": 0.097466,
     "end_time": "2021-04-30T11:28:11.278117",
     "exception": false,
     "start_time": "2021-04-30T11:28:11.180651",
     "status": "completed"
    },
    "tags": []
   },
   "outputs": [
    {
     "data": {
      "text/plain": [
       "[     PassengerId  Survived  Pclass  \\\n",
       " 0              1         0       3   \n",
       " 1              2         1       1   \n",
       " 2              3         1       3   \n",
       " 3              4         1       1   \n",
       " 4              5         0       3   \n",
       " ..           ...       ...     ...   \n",
       " 886          887         0       2   \n",
       " 887          888         1       1   \n",
       " 888          889         0       3   \n",
       " 889          890         1       1   \n",
       " 890          891         0       3   \n",
       " \n",
       "                                                   Name     Sex   Age  SibSp  \\\n",
       " 0                              Braund, Mr. Owen Harris    male  22.0      1   \n",
       " 1    Cumings, Mrs. John Bradley (Florence Briggs Th...  female  38.0      1   \n",
       " 2                               Heikkinen, Miss. Laina  female  26.0      0   \n",
       " 3         Futrelle, Mrs. Jacques Heath (Lily May Peel)  female  35.0      1   \n",
       " 4                             Allen, Mr. William Henry    male  35.0      0   \n",
       " ..                                                 ...     ...   ...    ...   \n",
       " 886                              Montvila, Rev. Juozas    male  27.0      0   \n",
       " 887                       Graham, Miss. Margaret Edith  female  19.0      0   \n",
       " 888           Johnston, Miss. Catherine Helen \"Carrie\"  female   NaN      1   \n",
       " 889                              Behr, Mr. Karl Howell    male  26.0      0   \n",
       " 890                                Dooley, Mr. Patrick    male  32.0      0   \n",
       " \n",
       "      Parch            Ticket     Fare Cabin Embarked  \n",
       " 0        0         A/5 21171   7.2500   NaN        S  \n",
       " 1        0          PC 17599  71.2833   C85        C  \n",
       " 2        0  STON/O2. 3101282   7.9250   NaN        S  \n",
       " 3        0            113803  53.1000  C123        S  \n",
       " 4        0            373450   8.0500   NaN        S  \n",
       " ..     ...               ...      ...   ...      ...  \n",
       " 886      0            211536  13.0000   NaN        S  \n",
       " 887      0            112053  30.0000   B42        S  \n",
       " 888      2        W./C. 6607  23.4500   NaN        S  \n",
       " 889      0            111369  30.0000  C148        C  \n",
       " 890      0            370376   7.7500   NaN        Q  \n",
       " \n",
       " [891 rows x 12 columns],\n",
       "      PassengerId  Pclass                                          Name  \\\n",
       " 0            892       3                              Kelly, Mr. James   \n",
       " 1            893       3              Wilkes, Mrs. James (Ellen Needs)   \n",
       " 2            894       2                     Myles, Mr. Thomas Francis   \n",
       " 3            895       3                              Wirz, Mr. Albert   \n",
       " 4            896       3  Hirvonen, Mrs. Alexander (Helga E Lindqvist)   \n",
       " ..           ...     ...                                           ...   \n",
       " 413         1305       3                            Spector, Mr. Woolf   \n",
       " 414         1306       1                  Oliva y Ocana, Dona. Fermina   \n",
       " 415         1307       3                  Saether, Mr. Simon Sivertsen   \n",
       " 416         1308       3                           Ware, Mr. Frederick   \n",
       " 417         1309       3                      Peter, Master. Michael J   \n",
       " \n",
       "         Sex   Age  SibSp  Parch              Ticket      Fare Cabin Embarked  \n",
       " 0      male  34.5      0      0              330911    7.8292   NaN        Q  \n",
       " 1    female  47.0      1      0              363272    7.0000   NaN        S  \n",
       " 2      male  62.0      0      0              240276    9.6875   NaN        Q  \n",
       " 3      male  27.0      0      0              315154    8.6625   NaN        S  \n",
       " 4    female  22.0      1      1             3101298   12.2875   NaN        S  \n",
       " ..      ...   ...    ...    ...                 ...       ...   ...      ...  \n",
       " 413    male   NaN      0      0           A.5. 3236    8.0500   NaN        S  \n",
       " 414  female  39.0      0      0            PC 17758  108.9000  C105        C  \n",
       " 415    male  38.5      0      0  SOTON/O.Q. 3101262    7.2500   NaN        S  \n",
       " 416    male   NaN      0      0              359309    8.0500   NaN        S  \n",
       " 417    male   NaN      1      1                2668   22.3583   NaN        C  \n",
       " \n",
       " [418 rows x 11 columns]]"
      ]
     },
     "execution_count": 15,
     "metadata": {},
     "output_type": "execute_result"
    }
   ],
   "source": [
    "train_test_data=[train,test]\n",
    "train_test_data"
   ]
  },
  {
   "cell_type": "code",
   "execution_count": 16,
   "id": "bulgarian-approval",
   "metadata": {
    "execution": {
     "iopub.execute_input": "2021-04-30T11:28:11.408450Z",
     "iopub.status.busy": "2021-04-30T11:28:11.407771Z",
     "iopub.status.idle": "2021-04-30T11:28:11.412243Z",
     "shell.execute_reply": "2021-04-30T11:28:11.411598Z"
    },
    "papermill": {
     "duration": 0.077115,
     "end_time": "2021-04-30T11:28:11.412417",
     "exception": false,
     "start_time": "2021-04-30T11:28:11.335302",
     "status": "completed"
    },
    "tags": []
   },
   "outputs": [],
   "source": [
    "for dataset in train_test_data:\n",
    "  dataset['Title']=dataset['Name'].str.extract(pat=' ([A-Za-z]+)\\.',expand=False)"
   ]
  },
  {
   "cell_type": "code",
   "execution_count": 17,
   "id": "interesting-vanilla",
   "metadata": {
    "execution": {
     "iopub.execute_input": "2021-04-30T11:28:11.529239Z",
     "iopub.status.busy": "2021-04-30T11:28:11.528175Z",
     "iopub.status.idle": "2021-04-30T11:28:11.533316Z",
     "shell.execute_reply": "2021-04-30T11:28:11.532601Z"
    },
    "papermill": {
     "duration": 0.066251,
     "end_time": "2021-04-30T11:28:11.533497",
     "exception": false,
     "start_time": "2021-04-30T11:28:11.467246",
     "status": "completed"
    },
    "tags": []
   },
   "outputs": [
    {
     "data": {
      "text/plain": [
       "Mr          517\n",
       "Miss        182\n",
       "Mrs         125\n",
       "Master       40\n",
       "Dr            7\n",
       "Rev           6\n",
       "Col           2\n",
       "Major         2\n",
       "Mlle          2\n",
       "Sir           1\n",
       "Lady          1\n",
       "Jonkheer      1\n",
       "Countess      1\n",
       "Ms            1\n",
       "Capt          1\n",
       "Mme           1\n",
       "Don           1\n",
       "Name: Title, dtype: int64"
      ]
     },
     "execution_count": 17,
     "metadata": {},
     "output_type": "execute_result"
    }
   ],
   "source": [
    "train['Title'].value_counts()"
   ]
  },
  {
   "cell_type": "code",
   "execution_count": 18,
   "id": "serious-class",
   "metadata": {
    "execution": {
     "iopub.execute_input": "2021-04-30T11:28:11.652644Z",
     "iopub.status.busy": "2021-04-30T11:28:11.651823Z",
     "iopub.status.idle": "2021-04-30T11:28:11.657257Z",
     "shell.execute_reply": "2021-04-30T11:28:11.656472Z"
    },
    "papermill": {
     "duration": 0.070052,
     "end_time": "2021-04-30T11:28:11.657423",
     "exception": false,
     "start_time": "2021-04-30T11:28:11.587371",
     "status": "completed"
    },
    "tags": []
   },
   "outputs": [
    {
     "data": {
      "text/plain": [
       "Mr        240\n",
       "Miss       78\n",
       "Mrs        72\n",
       "Master     21\n",
       "Col         2\n",
       "Rev         2\n",
       "Dr          1\n",
       "Ms          1\n",
       "Dona        1\n",
       "Name: Title, dtype: int64"
      ]
     },
     "execution_count": 18,
     "metadata": {},
     "output_type": "execute_result"
    }
   ],
   "source": [
    "test['Title'].value_counts()"
   ]
  },
  {
   "cell_type": "code",
   "execution_count": 19,
   "id": "incorrect-document",
   "metadata": {
    "execution": {
     "iopub.execute_input": "2021-04-30T11:28:11.778833Z",
     "iopub.status.busy": "2021-04-30T11:28:11.778099Z",
     "iopub.status.idle": "2021-04-30T11:28:11.782047Z",
     "shell.execute_reply": "2021-04-30T11:28:11.781380Z"
    },
    "papermill": {
     "duration": 0.068074,
     "end_time": "2021-04-30T11:28:11.782229",
     "exception": false,
     "start_time": "2021-04-30T11:28:11.714155",
     "status": "completed"
    },
    "tags": []
   },
   "outputs": [],
   "source": [
    "title_mapping = {\"Mr\": 0, \"Miss\": 1, \"Mrs\": 2, \n",
    "                 \"Master\": 3, \"Dr\": 3, \"Rev\": 3, \"Col\": 3, \"Major\": 3, \"Mlle\": 3,\"Countess\": 3,\n",
    "                 \"Ms\": 3, \"Lady\": 3, \"Jonkheer\": 3, \"Don\": 3, \"Dona\" : 3, \"Mme\": 3,\"Capt\": 3,\"Sir\": 3 }\n",
    "for dataset in train_test_data:\n",
    "    dataset['Title'] = dataset['Title'].map(title_mapping)"
   ]
  },
  {
   "cell_type": "code",
   "execution_count": 20,
   "id": "inappropriate-failing",
   "metadata": {
    "execution": {
     "iopub.execute_input": "2021-04-30T11:28:11.897069Z",
     "iopub.status.busy": "2021-04-30T11:28:11.896302Z",
     "iopub.status.idle": "2021-04-30T11:28:12.109335Z",
     "shell.execute_reply": "2021-04-30T11:28:12.108640Z"
    },
    "papermill": {
     "duration": 0.272353,
     "end_time": "2021-04-30T11:28:12.109536",
     "exception": false,
     "start_time": "2021-04-30T11:28:11.837183",
     "status": "completed"
    },
    "tags": []
   },
   "outputs": [
    {
     "data": {
      "text/plain": [
       "<AxesSubplot:>"
      ]
     },
     "execution_count": 20,
     "metadata": {},
     "output_type": "execute_result"
    },
    {
     "data": {
      "image/png": "[encoded data removed]",
      "text/plain": [
       "<Figure size 720x360 with 1 Axes>"
      ]
     },
     "metadata": {},
     "output_type": "display_data"
    }
   ],
   "source": [
    "bar_plot('Title')"
   ]
  },
  {
   "cell_type": "code",
   "execution_count": 21,
   "id": "metric-backing",
   "metadata": {
    "execution": {
     "iopub.execute_input": "2021-04-30T11:28:12.235759Z",
     "iopub.status.busy": "2021-04-30T11:28:12.234176Z",
     "iopub.status.idle": "2021-04-30T11:28:12.239477Z",
     "shell.execute_reply": "2021-04-30T11:28:12.238724Z"
    },
    "papermill": {
     "duration": 0.072416,
     "end_time": "2021-04-30T11:28:12.239661",
     "exception": false,
     "start_time": "2021-04-30T11:28:12.167245",
     "status": "completed"
    },
    "tags": []
   },
   "outputs": [],
   "source": [
    "train.drop(['Name'],axis=1,inplace=True)\n",
    "test.drop(['Name'],axis=1,inplace=True)"
   ]
  },
  {
   "cell_type": "code",
   "execution_count": 22,
   "id": "intensive-validity",
   "metadata": {
    "execution": {
     "iopub.execute_input": "2021-04-30T11:28:12.376420Z",
     "iopub.status.busy": "2021-04-30T11:28:12.375092Z",
     "iopub.status.idle": "2021-04-30T11:28:12.383917Z",
     "shell.execute_reply": "2021-04-30T11:28:12.383269Z"
    },
    "papermill": {
     "duration": 0.086531,
     "end_time": "2021-04-30T11:28:12.384113",
     "exception": false,
     "start_time": "2021-04-30T11:28:12.297582",
     "status": "completed"
    },
    "tags": []
   },
   "outputs": [
    {
     "data": {
      "text/html": [
       "<div>\n",
       "<style scoped>\n",
       "    .dataframe tbody tr th:only-of-type {\n",
       "        vertical-align: middle;\n",
       "    }\n",
       "\n",
       "    .dataframe tbody tr th {\n",
       "        vertical-align: top;\n",
       "    }\n",
       "\n",
       "    .dataframe thead th {\n",
       "        text-align: right;\n",
       "    }\n",
       "</style>\n",
       "<table border=\"1\" class=\"dataframe\">\n",
       "  <thead>\n",
       "    <tr style=\"text-align: right;\">\n",
       "      <th></th>\n",
       "      <th>PassengerId</th>\n",
       "      <th>Pclass</th>\n",
       "      <th>Sex</th>\n",
       "      <th>Age</th>\n",
       "      <th>SibSp</th>\n",
       "      <th>Parch</th>\n",
       "      <th>Ticket</th>\n",
       "      <th>Fare</th>\n",
       "      <th>Cabin</th>\n",
       "      <th>Embarked</th>\n",
       "      <th>Title</th>\n",
       "    </tr>\n",
       "  </thead>\n",
       "  <tbody>\n",
       "    <tr>\n",
       "      <th>0</th>\n",
       "      <td>892</td>\n",
       "      <td>3</td>\n",
       "      <td>male</td>\n",
       "      <td>34.5</td>\n",
       "      <td>0</td>\n",
       "      <td>0</td>\n",
       "      <td>330911</td>\n",
       "      <td>7.8292</td>\n",
       "      <td>NaN</td>\n",
       "      <td>Q</td>\n",
       "      <td>0</td>\n",
       "    </tr>\n",
       "    <tr>\n",
       "      <th>1</th>\n",
       "      <td>893</td>\n",
       "      <td>3</td>\n",
       "      <td>female</td>\n",
       "      <td>47.0</td>\n",
       "      <td>1</td>\n",
       "      <td>0</td>\n",
       "      <td>363272</td>\n",
       "      <td>7.0000</td>\n",
       "      <td>NaN</td>\n",
       "      <td>S</td>\n",
       "      <td>2</td>\n",
       "    </tr>\n",
       "    <tr>\n",
       "      <th>2</th>\n",
       "      <td>894</td>\n",
       "      <td>2</td>\n",
       "      <td>male</td>\n",
       "      <td>62.0</td>\n",
       "      <td>0</td>\n",
       "      <td>0</td>\n",
       "      <td>240276</td>\n",
       "      <td>9.6875</td>\n",
       "      <td>NaN</td>\n",
       "      <td>Q</td>\n",
       "      <td>0</td>\n",
       "    </tr>\n",
       "    <tr>\n",
       "      <th>3</th>\n",
       "      <td>895</td>\n",
       "      <td>3</td>\n",
       "      <td>male</td>\n",
       "      <td>27.0</td>\n",
       "      <td>0</td>\n",
       "      <td>0</td>\n",
       "      <td>315154</td>\n",
       "      <td>8.6625</td>\n",
       "      <td>NaN</td>\n",
       "      <td>S</td>\n",
       "      <td>0</td>\n",
       "    </tr>\n",
       "    <tr>\n",
       "      <th>4</th>\n",
       "      <td>896</td>\n",
       "      <td>3</td>\n",
       "      <td>female</td>\n",
       "      <td>22.0</td>\n",
       "      <td>1</td>\n",
       "      <td>1</td>\n",
       "      <td>3101298</td>\n",
       "      <td>12.2875</td>\n",
       "      <td>NaN</td>\n",
       "      <td>S</td>\n",
       "      <td>2</td>\n",
       "    </tr>\n",
       "  </tbody>\n",
       "</table>\n",
       "</div>"
      ],
      "text/plain": [
       "   PassengerId  Pclass     Sex   Age  SibSp  Parch   Ticket     Fare Cabin  \\\n",
       "0          892       3    male  34.5      0      0   330911   7.8292   NaN   \n",
       "1          893       3  female  47.0      1      0   363272   7.0000   NaN   \n",
       "2          894       2    male  62.0      0      0   240276   9.6875   NaN   \n",
       "3          895       3    male  27.0      0      0   315154   8.6625   NaN   \n",
       "4          896       3  female  22.0      1      1  3101298  12.2875   NaN   \n",
       "\n",
       "  Embarked  Title  \n",
       "0        Q      0  \n",
       "1        S      2  \n",
       "2        Q      0  \n",
       "3        S      0  \n",
       "4        S      2  "
      ]
     },
     "execution_count": 22,
     "metadata": {},
     "output_type": "execute_result"
    }
   ],
   "source": [
    "test.head()"
   ]
  },
  {
   "cell_type": "code",
   "execution_count": 23,
   "id": "beginning-apple",
   "metadata": {
    "execution": {
     "iopub.execute_input": "2021-04-30T11:28:12.517688Z",
     "iopub.status.busy": "2021-04-30T11:28:12.516679Z",
     "iopub.status.idle": "2021-04-30T11:28:12.520379Z",
     "shell.execute_reply": "2021-04-30T11:28:12.521056Z"
    },
    "papermill": {
     "duration": 0.074063,
     "end_time": "2021-04-30T11:28:12.521299",
     "exception": false,
     "start_time": "2021-04-30T11:28:12.447236",
     "status": "completed"
    },
    "tags": []
   },
   "outputs": [],
   "source": [
    "sex_mapping={\"male\":0,\"female\":1}\n",
    "for dataset in train_test_data:\n",
    "  dataset['Sex']=dataset['Sex'].map(sex_mapping)\n"
   ]
  },
  {
   "cell_type": "code",
   "execution_count": 24,
   "id": "eligible-review",
   "metadata": {
    "execution": {
     "iopub.execute_input": "2021-04-30T11:28:12.646767Z",
     "iopub.status.busy": "2021-04-30T11:28:12.645960Z",
     "iopub.status.idle": "2021-04-30T11:28:12.660902Z",
     "shell.execute_reply": "2021-04-30T11:28:12.661860Z"
    },
    "papermill": {
     "duration": 0.080545,
     "end_time": "2021-04-30T11:28:12.662338",
     "exception": false,
     "start_time": "2021-04-30T11:28:12.581793",
     "status": "completed"
    },
    "tags": []
   },
   "outputs": [],
   "source": [
    "train['Age'].fillna(train.groupby(['Title'])['Age'].transform(\"median\"),inplace=True)\n",
    "test['Age'].fillna(test.groupby(['Title'])['Age'].transform(\"median\"),inplace=True)"
   ]
  },
  {
   "cell_type": "code",
   "execution_count": 25,
   "id": "palestinian-arrival",
   "metadata": {
    "execution": {
     "iopub.execute_input": "2021-04-30T11:28:12.783311Z",
     "iopub.status.busy": "2021-04-30T11:28:12.782247Z",
     "iopub.status.idle": "2021-04-30T11:28:13.228549Z",
     "shell.execute_reply": "2021-04-30T11:28:13.229121Z"
    },
    "papermill": {
     "duration": 0.506502,
     "end_time": "2021-04-30T11:28:13.229328",
     "exception": false,
     "start_time": "2021-04-30T11:28:12.722826",
     "status": "completed"
    },
    "tags": []
   },
   "outputs": [
    {
     "data": {
      "text/plain": [
       "(0.0, 20.0)"
      ]
     },
     "execution_count": 25,
     "metadata": {},
     "output_type": "execute_result"
    },
    {
     "data": {
      "image/png": "[encoded data removed]",
      "text/plain": [
       "<Figure size 432x288 with 1 Axes>"
      ]
     },
     "metadata": {},
     "output_type": "display_data"
    }
   ],
   "source": [
    "sns.kdeplot(x=train[train['Survived']==1]['Age'],shade='true')\n",
    "sns.kdeplot(x=train[train['Survived']==0]['Age'],shade='true')\n",
    "plt.xlim(0,20)"
   ]
  },
  {
   "cell_type": "code",
   "execution_count": 26,
   "id": "juvenile-element",
   "metadata": {
    "execution": {
     "iopub.execute_input": "2021-04-30T11:28:13.360834Z",
     "iopub.status.busy": "2021-04-30T11:28:13.360104Z",
     "iopub.status.idle": "2021-04-30T11:28:13.628839Z",
     "shell.execute_reply": "2021-04-30T11:28:13.628233Z"
    },
    "papermill": {
     "duration": 0.342462,
     "end_time": "2021-04-30T11:28:13.629039",
     "exception": false,
     "start_time": "2021-04-30T11:28:13.286577",
     "status": "completed"
    },
    "tags": []
   },
   "outputs": [
    {
     "data": {
      "text/plain": [
       "(20.0, 40.0)"
      ]
     },
     "execution_count": 26,
     "metadata": {},
     "output_type": "execute_result"
    },
    {
     "data": {
      "image/png": "[encoded data removed]",
      "text/plain": [
       "<Figure size 432x288 with 1 Axes>"
      ]
     },
     "metadata": {},
     "output_type": "display_data"
    }
   ],
   "source": [
    "sns.kdeplot(x=train[train['Survived']==1]['Age'],shade='true')\n",
    "sns.kdeplot(x=train[train['Survived']==0]['Age'],shade='true')\n",
    "plt.xlim(20,40)\n"
   ]
  },
  {
   "cell_type": "code",
   "execution_count": 27,
   "id": "pharmaceutical-questionnaire",
   "metadata": {
    "execution": {
     "iopub.execute_input": "2021-04-30T11:28:13.811201Z",
     "iopub.status.busy": "2021-04-30T11:28:13.796542Z",
     "iopub.status.idle": "2021-04-30T11:28:14.040989Z",
     "shell.execute_reply": "2021-04-30T11:28:14.039647Z"
    },
    "papermill": {
     "duration": 0.354154,
     "end_time": "2021-04-30T11:28:14.041186",
     "exception": false,
     "start_time": "2021-04-30T11:28:13.687032",
     "status": "completed"
    },
    "tags": []
   },
   "outputs": [
    {
     "data": {
      "text/plain": [
       "(40.0, 60.0)"
      ]
     },
     "execution_count": 27,
     "metadata": {},
     "output_type": "execute_result"
    },
    {
     "data": {
      "image/png": "[encoded data removed]",
      "text/plain": [
       "<Figure size 432x288 with 1 Axes>"
      ]
     },
     "metadata": {},
     "output_type": "display_data"
    }
   ],
   "source": [
    "sns.kdeplot(x=train[train['Survived']==1]['Age'],shade='true')\n",
    "sns.kdeplot(x=train[train['Survived']==0]['Age'],shade='true')\n",
    "plt.xlim(40,60)\n"
   ]
  },
  {
   "cell_type": "code",
   "execution_count": 28,
   "id": "killing-kenya",
   "metadata": {
    "execution": {
     "iopub.execute_input": "2021-04-30T11:28:14.199618Z",
     "iopub.status.busy": "2021-04-30T11:28:14.194182Z",
     "iopub.status.idle": "2021-04-30T11:28:14.452518Z",
     "shell.execute_reply": "2021-04-30T11:28:14.453069Z"
    },
    "papermill": {
     "duration": 0.349415,
     "end_time": "2021-04-30T11:28:14.453306",
     "exception": false,
     "start_time": "2021-04-30T11:28:14.103891",
     "status": "completed"
    },
    "tags": []
   },
   "outputs": [
    {
     "data": {
      "text/plain": [
       "(60.0, 80.0)"
      ]
     },
     "execution_count": 28,
     "metadata": {},
     "output_type": "execute_result"
    },
    {
     "data": {
      "image/png": "[encoded data removed]",
      "text/plain": [
       "<Figure size 432x288 with 1 Axes>"
      ]
     },
     "metadata": {},
     "output_type": "display_data"
    }
   ],
   "source": [
    "sns.kdeplot(x=train[train['Survived']==1]['Age'],shade='true')\n",
    "sns.kdeplot(x=train[train['Survived']==0]['Age'],shade='true')\n",
    "plt.xlim(60,80)\n"
   ]
  },
  {
   "cell_type": "code",
   "execution_count": 29,
   "id": "physical-starter",
   "metadata": {
    "execution": {
     "iopub.execute_input": "2021-04-30T11:28:14.582776Z",
     "iopub.status.busy": "2021-04-30T11:28:14.582014Z",
     "iopub.status.idle": "2021-04-30T11:28:14.600244Z",
     "shell.execute_reply": "2021-04-30T11:28:14.600757Z"
    },
    "papermill": {
     "duration": 0.085777,
     "end_time": "2021-04-30T11:28:14.600983",
     "exception": false,
     "start_time": "2021-04-30T11:28:14.515206",
     "status": "completed"
    },
    "tags": []
   },
   "outputs": [],
   "source": [
    "for dataset in train_test_data:\n",
    "  dataset.loc[dataset['Age']<=13,'Age']=1;\n",
    "  dataset.loc[(dataset['Age']>13) & (dataset['Age']<=18),'Age']=2;\n",
    "  dataset.loc[(dataset['Age']>18) & (dataset['Age']<=30),'Age']=3;\n",
    "  dataset.loc[(dataset['Age']>30) & (dataset['Age']<=50),'Age']=4;\n",
    "  dataset.loc[(dataset['Age']>50) & (dataset['Age']<=80),'Age']=5;"
   ]
  },
  {
   "cell_type": "code",
   "execution_count": 30,
   "id": "married-wales",
   "metadata": {
    "execution": {
     "iopub.execute_input": "2021-04-30T11:28:14.731840Z",
     "iopub.status.busy": "2021-04-30T11:28:14.731078Z",
     "iopub.status.idle": "2021-04-30T11:28:14.931023Z",
     "shell.execute_reply": "2021-04-30T11:28:14.930255Z"
    },
    "papermill": {
     "duration": 0.265989,
     "end_time": "2021-04-30T11:28:14.931201",
     "exception": false,
     "start_time": "2021-04-30T11:28:14.665212",
     "status": "completed"
    },
    "tags": []
   },
   "outputs": [
    {
     "data": {
      "text/plain": [
       "<AxesSubplot:>"
      ]
     },
     "execution_count": 30,
     "metadata": {},
     "output_type": "execute_result"
    },
    {
     "data": {
      "image/png": "[encoded data removed]",
      "text/plain": [
       "<Figure size 432x288 with 1 Axes>"
      ]
     },
     "metadata": {},
     "output_type": "display_data"
    }
   ],
   "source": [
    "train['Age'].value_counts().plot.bar()"
   ]
  },
  {
   "cell_type": "code",
   "execution_count": 31,
   "id": "cleared-guess",
   "metadata": {
    "execution": {
     "iopub.execute_input": "2021-04-30T11:28:15.073602Z",
     "iopub.status.busy": "2021-04-30T11:28:15.072841Z",
     "iopub.status.idle": "2021-04-30T11:28:15.306079Z",
     "shell.execute_reply": "2021-04-30T11:28:15.306710Z"
    },
    "papermill": {
     "duration": 0.3078,
     "end_time": "2021-04-30T11:28:15.306944",
     "exception": false,
     "start_time": "2021-04-30T11:28:14.999144",
     "status": "completed"
    },
    "tags": []
   },
   "outputs": [
    {
     "data": {
      "text/plain": [
       "<AxesSubplot:>"
      ]
     },
     "execution_count": 31,
     "metadata": {},
     "output_type": "execute_result"
    },
    {
     "data": {
      "image/png": "[encoded data removed]",
      "text/plain": [
       "<Figure size 720x360 with 1 Axes>"
      ]
     },
     "metadata": {},
     "output_type": "display_data"
    }
   ],
   "source": [
    "bar_plot('Age')"
   ]
  },
  {
   "cell_type": "code",
   "execution_count": 32,
   "id": "aboriginal-aggregate",
   "metadata": {
    "execution": {
     "iopub.execute_input": "2021-04-30T11:28:15.479335Z",
     "iopub.status.busy": "2021-04-30T11:28:15.471093Z",
     "iopub.status.idle": "2021-04-30T11:28:15.705613Z",
     "shell.execute_reply": "2021-04-30T11:28:15.706268Z"
    },
    "papermill": {
     "duration": 0.327103,
     "end_time": "2021-04-30T11:28:15.706498",
     "exception": false,
     "start_time": "2021-04-30T11:28:15.379395",
     "status": "completed"
    },
    "tags": []
   },
   "outputs": [
    {
     "data": {
      "text/plain": [
       "<AxesSubplot:>"
      ]
     },
     "execution_count": 32,
     "metadata": {},
     "output_type": "execute_result"
    },
    {
     "data": {
      "image/png": "[encoded data removed]",
      "text/plain": [
       "<Figure size 432x288 with 1 Axes>"
      ]
     },
     "metadata": {},
     "output_type": "display_data"
    }
   ],
   "source": [
    "P1=train[train['Pclass']==1]['Embarked'].value_counts()\n",
    "P2=train[train['Pclass']==2]['Embarked'].value_counts()\n",
    "P3=train[train['Pclass']==3]['Embarked'].value_counts()\n",
    "df=pd.DataFrame([P1,P2,P3])\n",
    "df.index=['1st Class','2nd Class','3rd Class']\n",
    "df.plot.bar(stacked=True)"
   ]
  },
  {
   "cell_type": "code",
   "execution_count": 33,
   "id": "lyric-macintosh",
   "metadata": {
    "execution": {
     "iopub.execute_input": "2021-04-30T11:28:15.846409Z",
     "iopub.status.busy": "2021-04-30T11:28:15.845731Z",
     "iopub.status.idle": "2021-04-30T11:28:15.851759Z",
     "shell.execute_reply": "2021-04-30T11:28:15.852328Z"
    },
    "papermill": {
     "duration": 0.078649,
     "end_time": "2021-04-30T11:28:15.852557",
     "exception": false,
     "start_time": "2021-04-30T11:28:15.773908",
     "status": "completed"
    },
    "tags": []
   },
   "outputs": [],
   "source": [
    "train['Embarked'].fillna('S',inplace=True)"
   ]
  },
  {
   "cell_type": "code",
   "execution_count": 34,
   "id": "gentle-bacteria",
   "metadata": {
    "execution": {
     "iopub.execute_input": "2021-04-30T11:28:15.998406Z",
     "iopub.status.busy": "2021-04-30T11:28:15.997331Z",
     "iopub.status.idle": "2021-04-30T11:28:16.031300Z",
     "shell.execute_reply": "2021-04-30T11:28:16.031848Z"
    },
    "papermill": {
     "duration": 0.106603,
     "end_time": "2021-04-30T11:28:16.032102",
     "exception": false,
     "start_time": "2021-04-30T11:28:15.925499",
     "status": "completed"
    },
    "tags": []
   },
   "outputs": [
    {
     "data": {
      "text/html": [
       "<div>\n",
       "<style scoped>\n",
       "    .dataframe tbody tr th:only-of-type {\n",
       "        vertical-align: middle;\n",
       "    }\n",
       "\n",
       "    .dataframe tbody tr th {\n",
       "        vertical-align: top;\n",
       "    }\n",
       "\n",
       "    .dataframe thead th {\n",
       "        text-align: right;\n",
       "    }\n",
       "</style>\n",
       "<table border=\"1\" class=\"dataframe\">\n",
       "  <thead>\n",
       "    <tr style=\"text-align: right;\">\n",
       "      <th></th>\n",
       "      <th>PassengerId</th>\n",
       "      <th>Survived</th>\n",
       "      <th>Pclass</th>\n",
       "      <th>Sex</th>\n",
       "      <th>Age</th>\n",
       "      <th>SibSp</th>\n",
       "      <th>Parch</th>\n",
       "      <th>Ticket</th>\n",
       "      <th>Fare</th>\n",
       "      <th>Cabin</th>\n",
       "      <th>Embarked</th>\n",
       "      <th>Title</th>\n",
       "    </tr>\n",
       "  </thead>\n",
       "  <tbody>\n",
       "    <tr>\n",
       "      <th>0</th>\n",
       "      <td>1</td>\n",
       "      <td>0</td>\n",
       "      <td>3</td>\n",
       "      <td>0</td>\n",
       "      <td>3.0</td>\n",
       "      <td>1</td>\n",
       "      <td>0</td>\n",
       "      <td>A/5 21171</td>\n",
       "      <td>7.2500</td>\n",
       "      <td>NaN</td>\n",
       "      <td>1</td>\n",
       "      <td>0</td>\n",
       "    </tr>\n",
       "    <tr>\n",
       "      <th>1</th>\n",
       "      <td>2</td>\n",
       "      <td>1</td>\n",
       "      <td>1</td>\n",
       "      <td>1</td>\n",
       "      <td>4.0</td>\n",
       "      <td>1</td>\n",
       "      <td>0</td>\n",
       "      <td>PC 17599</td>\n",
       "      <td>71.2833</td>\n",
       "      <td>C85</td>\n",
       "      <td>2</td>\n",
       "      <td>2</td>\n",
       "    </tr>\n",
       "    <tr>\n",
       "      <th>2</th>\n",
       "      <td>3</td>\n",
       "      <td>1</td>\n",
       "      <td>3</td>\n",
       "      <td>1</td>\n",
       "      <td>3.0</td>\n",
       "      <td>0</td>\n",
       "      <td>0</td>\n",
       "      <td>STON/O2. 3101282</td>\n",
       "      <td>7.9250</td>\n",
       "      <td>NaN</td>\n",
       "      <td>1</td>\n",
       "      <td>1</td>\n",
       "    </tr>\n",
       "    <tr>\n",
       "      <th>3</th>\n",
       "      <td>4</td>\n",
       "      <td>1</td>\n",
       "      <td>1</td>\n",
       "      <td>1</td>\n",
       "      <td>4.0</td>\n",
       "      <td>1</td>\n",
       "      <td>0</td>\n",
       "      <td>113803</td>\n",
       "      <td>53.1000</td>\n",
       "      <td>C123</td>\n",
       "      <td>1</td>\n",
       "      <td>2</td>\n",
       "    </tr>\n",
       "    <tr>\n",
       "      <th>4</th>\n",
       "      <td>5</td>\n",
       "      <td>0</td>\n",
       "      <td>3</td>\n",
       "      <td>0</td>\n",
       "      <td>4.0</td>\n",
       "      <td>0</td>\n",
       "      <td>0</td>\n",
       "      <td>373450</td>\n",
       "      <td>8.0500</td>\n",
       "      <td>NaN</td>\n",
       "      <td>1</td>\n",
       "      <td>0</td>\n",
       "    </tr>\n",
       "    <tr>\n",
       "      <th>...</th>\n",
       "      <td>...</td>\n",
       "      <td>...</td>\n",
       "      <td>...</td>\n",
       "      <td>...</td>\n",
       "      <td>...</td>\n",
       "      <td>...</td>\n",
       "      <td>...</td>\n",
       "      <td>...</td>\n",
       "      <td>...</td>\n",
       "      <td>...</td>\n",
       "      <td>...</td>\n",
       "      <td>...</td>\n",
       "    </tr>\n",
       "    <tr>\n",
       "      <th>886</th>\n",
       "      <td>887</td>\n",
       "      <td>0</td>\n",
       "      <td>2</td>\n",
       "      <td>0</td>\n",
       "      <td>3.0</td>\n",
       "      <td>0</td>\n",
       "      <td>0</td>\n",
       "      <td>211536</td>\n",
       "      <td>13.0000</td>\n",
       "      <td>NaN</td>\n",
       "      <td>1</td>\n",
       "      <td>3</td>\n",
       "    </tr>\n",
       "    <tr>\n",
       "      <th>887</th>\n",
       "      <td>888</td>\n",
       "      <td>1</td>\n",
       "      <td>1</td>\n",
       "      <td>1</td>\n",
       "      <td>3.0</td>\n",
       "      <td>0</td>\n",
       "      <td>0</td>\n",
       "      <td>112053</td>\n",
       "      <td>30.0000</td>\n",
       "      <td>B42</td>\n",
       "      <td>1</td>\n",
       "      <td>1</td>\n",
       "    </tr>\n",
       "    <tr>\n",
       "      <th>888</th>\n",
       "      <td>889</td>\n",
       "      <td>0</td>\n",
       "      <td>3</td>\n",
       "      <td>1</td>\n",
       "      <td>3.0</td>\n",
       "      <td>1</td>\n",
       "      <td>2</td>\n",
       "      <td>W./C. 6607</td>\n",
       "      <td>23.4500</td>\n",
       "      <td>NaN</td>\n",
       "      <td>1</td>\n",
       "      <td>1</td>\n",
       "    </tr>\n",
       "    <tr>\n",
       "      <th>889</th>\n",
       "      <td>890</td>\n",
       "      <td>1</td>\n",
       "      <td>1</td>\n",
       "      <td>0</td>\n",
       "      <td>3.0</td>\n",
       "      <td>0</td>\n",
       "      <td>0</td>\n",
       "      <td>111369</td>\n",
       "      <td>30.0000</td>\n",
       "      <td>C148</td>\n",
       "      <td>2</td>\n",
       "      <td>0</td>\n",
       "    </tr>\n",
       "    <tr>\n",
       "      <th>890</th>\n",
       "      <td>891</td>\n",
       "      <td>0</td>\n",
       "      <td>3</td>\n",
       "      <td>0</td>\n",
       "      <td>4.0</td>\n",
       "      <td>0</td>\n",
       "      <td>0</td>\n",
       "      <td>370376</td>\n",
       "      <td>7.7500</td>\n",
       "      <td>NaN</td>\n",
       "      <td>3</td>\n",
       "      <td>0</td>\n",
       "    </tr>\n",
       "  </tbody>\n",
       "</table>\n",
       "<p>891 rows × 12 columns</p>\n",
       "</div>"
      ],
      "text/plain": [
       "     PassengerId  Survived  Pclass  Sex  Age  SibSp  Parch            Ticket  \\\n",
       "0              1         0       3    0  3.0      1      0         A/5 21171   \n",
       "1              2         1       1    1  4.0      1      0          PC 17599   \n",
       "2              3         1       3    1  3.0      0      0  STON/O2. 3101282   \n",
       "3              4         1       1    1  4.0      1      0            113803   \n",
       "4              5         0       3    0  4.0      0      0            373450   \n",
       "..           ...       ...     ...  ...  ...    ...    ...               ...   \n",
       "886          887         0       2    0  3.0      0      0            211536   \n",
       "887          888         1       1    1  3.0      0      0            112053   \n",
       "888          889         0       3    1  3.0      1      2        W./C. 6607   \n",
       "889          890         1       1    0  3.0      0      0            111369   \n",
       "890          891         0       3    0  4.0      0      0            370376   \n",
       "\n",
       "        Fare Cabin Embarked  Title  \n",
       "0     7.2500   NaN        1      0  \n",
       "1    71.2833   C85        2      2  \n",
       "2     7.9250   NaN        1      1  \n",
       "3    53.1000  C123        1      2  \n",
       "4     8.0500   NaN        1      0  \n",
       "..       ...   ...      ...    ...  \n",
       "886  13.0000   NaN        1      3  \n",
       "887  30.0000   B42        1      1  \n",
       "888  23.4500   NaN        1      1  \n",
       "889  30.0000  C148        2      0  \n",
       "890   7.7500   NaN        3      0  \n",
       "\n",
       "[891 rows x 12 columns]"
      ]
     },
     "execution_count": 34,
     "metadata": {},
     "output_type": "execute_result"
    }
   ],
   "source": [
    "for dataset in train_test_data:\n",
    "  dataset.loc[dataset['Embarked']=='S','Embarked']=1;\n",
    "  dataset.loc[dataset['Embarked']=='C','Embarked']=2;\n",
    "  dataset.loc[dataset['Embarked']=='Q','Embarked']=3;\n",
    "train"
   ]
  },
  {
   "cell_type": "code",
   "execution_count": 35,
   "id": "dated-howard",
   "metadata": {
    "execution": {
     "iopub.execute_input": "2021-04-30T11:28:16.180392Z",
     "iopub.status.busy": "2021-04-30T11:28:16.179660Z",
     "iopub.status.idle": "2021-04-30T11:28:16.191347Z",
     "shell.execute_reply": "2021-04-30T11:28:16.190661Z"
    },
    "papermill": {
     "duration": 0.087656,
     "end_time": "2021-04-30T11:28:16.191517",
     "exception": false,
     "start_time": "2021-04-30T11:28:16.103861",
     "status": "completed"
    },
    "tags": []
   },
   "outputs": [],
   "source": [
    "train['Fare'].fillna(train.groupby(['Pclass'])['Fare'].transform(\"mean\"),inplace=True)\n",
    "test['Fare'].fillna(test.groupby(['Pclass'])['Fare'].transform(\"mean\"),inplace=True)"
   ]
  },
  {
   "cell_type": "code",
   "execution_count": 36,
   "id": "attached-rebound",
   "metadata": {
    "execution": {
     "iopub.execute_input": "2021-04-30T11:28:16.344624Z",
     "iopub.status.busy": "2021-04-30T11:28:16.343738Z",
     "iopub.status.idle": "2021-04-30T11:28:16.896384Z",
     "shell.execute_reply": "2021-04-30T11:28:16.895640Z"
    },
    "papermill": {
     "duration": 0.633257,
     "end_time": "2021-04-30T11:28:16.896555",
     "exception": false,
     "start_time": "2021-04-30T11:28:16.263298",
     "status": "completed"
    },
    "tags": []
   },
   "outputs": [
    {
     "data": {
      "text/plain": [
       "<seaborn.axisgrid.FacetGrid at 0x7fa280e31590>"
      ]
     },
     "execution_count": 36,
     "metadata": {},
     "output_type": "execute_result"
    },
    {
     "data": {
      "image/png": "[encoded data removed]",
      "text/plain": [
       "<Figure size 925.55x216 with 1 Axes>"
      ]
     },
     "metadata": {},
     "output_type": "display_data"
    }
   ],
   "source": [
    "facet=sns.FacetGrid(train,hue='Survived',aspect=4)\n",
    "facet.map(sns.kdeplot,'Fare',shade=True)\n",
    "facet.set(xlim=(0,train['Fare'].max()))\n",
    "facet.add_legend()"
   ]
  },
  {
   "cell_type": "code",
   "execution_count": 37,
   "id": "virtual-diabetes",
   "metadata": {
    "execution": {
     "iopub.execute_input": "2021-04-30T11:28:17.065151Z",
     "iopub.status.busy": "2021-04-30T11:28:17.052504Z",
     "iopub.status.idle": "2021-04-30T11:28:17.611711Z",
     "shell.execute_reply": "2021-04-30T11:28:17.610784Z"
    },
    "papermill": {
     "duration": 0.646653,
     "end_time": "2021-04-30T11:28:17.611924",
     "exception": false,
     "start_time": "2021-04-30T11:28:16.965271",
     "status": "completed"
    },
    "tags": []
   },
   "outputs": [
    {
     "data": {
      "text/plain": [
       "(0.0, 20.0)"
      ]
     },
     "execution_count": 37,
     "metadata": {},
     "output_type": "execute_result"
    },
    {
     "data": {
      "image/png": "[encoded data removed]",
      "text/plain": [
       "<Figure size 925.55x216 with 1 Axes>"
      ]
     },
     "metadata": {},
     "output_type": "display_data"
    }
   ],
   "source": [
    "facet=sns.FacetGrid(train,hue='Survived',aspect=4)\n",
    "facet.map(sns.kdeplot,'Fare',shade=True)\n",
    "facet.set(xlim=(0,train['Fare'].max()))\n",
    "facet.add_legend()\n",
    "plt.xlim(0,20)"
   ]
  },
  {
   "cell_type": "code",
   "execution_count": 38,
   "id": "iraqi-comparison",
   "metadata": {
    "execution": {
     "iopub.execute_input": "2021-04-30T11:28:17.809640Z",
     "iopub.status.busy": "2021-04-30T11:28:17.807531Z",
     "iopub.status.idle": "2021-04-30T11:28:18.351553Z",
     "shell.execute_reply": "2021-04-30T11:28:18.350724Z"
    },
    "papermill": {
     "duration": 0.66872,
     "end_time": "2021-04-30T11:28:18.351731",
     "exception": false,
     "start_time": "2021-04-30T11:28:17.683011",
     "status": "completed"
    },
    "tags": []
   },
   "outputs": [
    {
     "data": {
      "text/plain": [
       "(20.0, 40.0)"
      ]
     },
     "execution_count": 38,
     "metadata": {},
     "output_type": "execute_result"
    },
    {
     "data": {
      "image/png": "[encoded data removed]",
      "text/plain": [
       "<Figure size 925.55x216 with 1 Axes>"
      ]
     },
     "metadata": {},
     "output_type": "display_data"
    }
   ],
   "source": [
    "facet=sns.FacetGrid(train,hue='Survived',aspect=4)\n",
    "facet.map(sns.kdeplot,'Fare',shade=True)\n",
    "facet.set(xlim=(0,train['Fare'].max()))\n",
    "facet.add_legend()\n",
    "plt.xlim(20,40)"
   ]
  },
  {
   "cell_type": "code",
   "execution_count": 39,
   "id": "spiritual-supplier",
   "metadata": {
    "execution": {
     "iopub.execute_input": "2021-04-30T11:28:18.531581Z",
     "iopub.status.busy": "2021-04-30T11:28:18.530776Z",
     "iopub.status.idle": "2021-04-30T11:28:19.078728Z",
     "shell.execute_reply": "2021-04-30T11:28:19.078005Z"
    },
    "papermill": {
     "duration": 0.652401,
     "end_time": "2021-04-30T11:28:19.079000",
     "exception": false,
     "start_time": "2021-04-30T11:28:18.426599",
     "status": "completed"
    },
    "tags": []
   },
   "outputs": [
    {
     "data": {
      "text/plain": [
       "(40.0, 80.0)"
      ]
     },
     "execution_count": 39,
     "metadata": {},
     "output_type": "execute_result"
    },
    {
     "data": {
      "image/png": "[encoded data removed]",
      "text/plain": [
       "<Figure size 925.55x216 with 1 Axes>"
      ]
     },
     "metadata": {},
     "output_type": "display_data"
    }
   ],
   "source": [
    "facet=sns.FacetGrid(train,hue='Survived',aspect=4)\n",
    "facet.map(sns.kdeplot,'Fare',shade=True)\n",
    "facet.set(xlim=(0,train['Fare'].max()))\n",
    "facet.add_legend()\n",
    "plt.xlim(40,80)"
   ]
  },
  {
   "cell_type": "code",
   "execution_count": 40,
   "id": "fatal-classic",
   "metadata": {
    "execution": {
     "iopub.execute_input": "2021-04-30T11:28:19.237384Z",
     "iopub.status.busy": "2021-04-30T11:28:19.236474Z",
     "iopub.status.idle": "2021-04-30T11:28:19.812508Z",
     "shell.execute_reply": "2021-04-30T11:28:19.811705Z"
    },
    "papermill": {
     "duration": 0.658644,
     "end_time": "2021-04-30T11:28:19.812684",
     "exception": false,
     "start_time": "2021-04-30T11:28:19.154040",
     "status": "completed"
    },
    "tags": []
   },
   "outputs": [
    {
     "data": {
      "text/plain": [
       "(80.0, 100.0)"
      ]
     },
     "execution_count": 40,
     "metadata": {},
     "output_type": "execute_result"
    },
    {
     "data": {
      "image/png": "[encoded data removed]",
      "text/plain": [
       "<Figure size 925.55x216 with 1 Axes>"
      ]
     },
     "metadata": {},
     "output_type": "display_data"
    }
   ],
   "source": [
    "facet=sns.FacetGrid(train,hue='Survived',aspect=4)\n",
    "facet.map(sns.kdeplot,'Fare',shade=True)\n",
    "facet.set(xlim=(0,train['Fare'].max()))\n",
    "facet.add_legend()\n",
    "plt.xlim(80,100)"
   ]
  },
  {
   "cell_type": "code",
   "execution_count": 41,
   "id": "cooked-springfield",
   "metadata": {
    "execution": {
     "iopub.execute_input": "2021-04-30T11:28:20.009831Z",
     "iopub.status.busy": "2021-04-30T11:28:19.989519Z",
     "iopub.status.idle": "2021-04-30T11:28:20.545006Z",
     "shell.execute_reply": "2021-04-30T11:28:20.544346Z"
    },
    "papermill": {
     "duration": 0.658925,
     "end_time": "2021-04-30T11:28:20.545175",
     "exception": false,
     "start_time": "2021-04-30T11:28:19.886250",
     "status": "completed"
    },
    "tags": []
   },
   "outputs": [
    {
     "data": {
      "text/plain": [
       "(100.0, 512.3292)"
      ]
     },
     "execution_count": 41,
     "metadata": {},
     "output_type": "execute_result"
    },
    {
     "data": {
      "image/png": "[encoded data removed]",
      "text/plain": [
       "<Figure size 925.55x216 with 1 Axes>"
      ]
     },
     "metadata": {},
     "output_type": "display_data"
    }
   ],
   "source": [
    "facet=sns.FacetGrid(train,hue='Survived',aspect=4)\n",
    "facet.map(sns.kdeplot,'Fare',shade=True)\n",
    "facet.set(xlim=(0,train['Fare'].max()))\n",
    "facet.add_legend()\n",
    "plt.xlim(100,train['Fare'].max())"
   ]
  },
  {
   "cell_type": "code",
   "execution_count": 42,
   "id": "stunning-starter",
   "metadata": {
    "execution": {
     "iopub.execute_input": "2021-04-30T11:28:20.707002Z",
     "iopub.status.busy": "2021-04-30T11:28:20.706157Z",
     "iopub.status.idle": "2021-04-30T11:28:20.720489Z",
     "shell.execute_reply": "2021-04-30T11:28:20.721050Z"
    },
    "papermill": {
     "duration": 0.097537,
     "end_time": "2021-04-30T11:28:20.721291",
     "exception": false,
     "start_time": "2021-04-30T11:28:20.623754",
     "status": "completed"
    },
    "tags": []
   },
   "outputs": [],
   "source": [
    "for dataset in train_test_data:\n",
    "  dataset.loc[dataset['Fare']<=15,'Fare']=1\n",
    "  dataset.loc[(dataset['Fare']>15) & (dataset['Fare']<=35),'Fare']=2\n",
    "  dataset.loc[(dataset['Fare']>35) & (dataset['Fare']<=100),'Fare']=3\n",
    "  dataset.loc[dataset['Fare']>100,'Fare']=4"
   ]
  },
  {
   "cell_type": "code",
   "execution_count": 43,
   "id": "derived-camel",
   "metadata": {
    "execution": {
     "iopub.execute_input": "2021-04-30T11:28:20.889194Z",
     "iopub.status.busy": "2021-04-30T11:28:20.888454Z",
     "iopub.status.idle": "2021-04-30T11:28:21.123598Z",
     "shell.execute_reply": "2021-04-30T11:28:21.124122Z"
    },
    "papermill": {
     "duration": 0.321752,
     "end_time": "2021-04-30T11:28:21.124341",
     "exception": false,
     "start_time": "2021-04-30T11:28:20.802589",
     "status": "completed"
    },
    "tags": []
   },
   "outputs": [
    {
     "data": {
      "text/plain": [
       "<AxesSubplot:>"
      ]
     },
     "execution_count": 43,
     "metadata": {},
     "output_type": "execute_result"
    },
    {
     "data": {
      "image/png": "[encoded data removed]",
      "text/plain": [
       "<Figure size 720x360 with 1 Axes>"
      ]
     },
     "metadata": {},
     "output_type": "display_data"
    }
   ],
   "source": [
    "bar_plot('Fare')"
   ]
  },
  {
   "cell_type": "code",
   "execution_count": 44,
   "id": "cultural-crest",
   "metadata": {
    "execution": {
     "iopub.execute_input": "2021-04-30T11:28:21.292248Z",
     "iopub.status.busy": "2021-04-30T11:28:21.291532Z",
     "iopub.status.idle": "2021-04-30T11:28:21.303847Z",
     "shell.execute_reply": "2021-04-30T11:28:21.304514Z"
    },
    "papermill": {
     "duration": 0.100443,
     "end_time": "2021-04-30T11:28:21.304759",
     "exception": false,
     "start_time": "2021-04-30T11:28:21.204316",
     "status": "completed"
    },
    "tags": []
   },
   "outputs": [
    {
     "data": {
      "text/plain": [
       "C    59\n",
       "B    47\n",
       "D    33\n",
       "E    32\n",
       "A    15\n",
       "F    13\n",
       "G     4\n",
       "T     1\n",
       "Name: Cabin, dtype: int64"
      ]
     },
     "execution_count": 44,
     "metadata": {},
     "output_type": "execute_result"
    }
   ],
   "source": [
    "for dataset in train_test_data:\n",
    "  dataset['Cabin']=dataset['Cabin'].str[:1]\n",
    "train['Cabin'].value_counts()"
   ]
  },
  {
   "cell_type": "code",
   "execution_count": 45,
   "id": "internal-establishment",
   "metadata": {
    "execution": {
     "iopub.execute_input": "2021-04-30T11:28:21.471479Z",
     "iopub.status.busy": "2021-04-30T11:28:21.470734Z",
     "iopub.status.idle": "2021-04-30T11:28:21.752970Z",
     "shell.execute_reply": "2021-04-30T11:28:21.753515Z"
    },
    "papermill": {
     "duration": 0.367595,
     "end_time": "2021-04-30T11:28:21.753746",
     "exception": false,
     "start_time": "2021-04-30T11:28:21.386151",
     "status": "completed"
    },
    "tags": []
   },
   "outputs": [
    {
     "data": {
      "text/plain": [
       "<AxesSubplot:>"
      ]
     },
     "execution_count": 45,
     "metadata": {},
     "output_type": "execute_result"
    },
    {
     "data": {
      "image/png": "[encoded data removed]",
      "text/plain": [
       "<Figure size 432x288 with 1 Axes>"
      ]
     },
     "metadata": {},
     "output_type": "display_data"
    }
   ],
   "source": [
    "C1=train[train['Pclass']==1]['Cabin'].value_counts()\n",
    "C2=train[train['Pclass']==2]['Cabin'].value_counts()\n",
    "C3=train[train['Pclass']==3]['Cabin'].value_counts()\n",
    "df=pd.DataFrame([C1,C2,C3])\n",
    "df.index=['Class 1','Class 2','Class 3']\n",
    "df.plot.bar()"
   ]
  },
  {
   "cell_type": "code",
   "execution_count": 46,
   "id": "democratic-things",
   "metadata": {
    "execution": {
     "iopub.execute_input": "2021-04-30T11:28:21.919917Z",
     "iopub.status.busy": "2021-04-30T11:28:21.919168Z",
     "iopub.status.idle": "2021-04-30T11:28:21.933872Z",
     "shell.execute_reply": "2021-04-30T11:28:21.934513Z"
    },
    "papermill": {
     "duration": 0.099833,
     "end_time": "2021-04-30T11:28:21.934754",
     "exception": false,
     "start_time": "2021-04-30T11:28:21.834921",
     "status": "completed"
    },
    "tags": []
   },
   "outputs": [],
   "source": [
    "cabin_mapping={\"A\":0,\"B\":1,\"C\":2,\"D\":3,\"E\":4,\"F\":5,\"G\":6,\"T\":7}\n",
    "for dataset in train_test_data:\n",
    "  dataset['Cabin']=dataset['Cabin'].map(cabin_mapping)\n",
    "train['Cabin'].fillna(train.groupby(['Pclass'])['Cabin'].transform(\"median\"),inplace=True)\n",
    "test['Cabin'].fillna(test.groupby(['Pclass'])['Cabin'].transform(\"median\"),inplace=True)"
   ]
  },
  {
   "cell_type": "code",
   "execution_count": 47,
   "id": "subjective-sweet",
   "metadata": {
    "execution": {
     "iopub.execute_input": "2021-04-30T11:28:22.113542Z",
     "iopub.status.busy": "2021-04-30T11:28:22.112790Z",
     "iopub.status.idle": "2021-04-30T11:28:22.125493Z",
     "shell.execute_reply": "2021-04-30T11:28:22.126194Z"
    },
    "papermill": {
     "duration": 0.104362,
     "end_time": "2021-04-30T11:28:22.126407",
     "exception": false,
     "start_time": "2021-04-30T11:28:22.022045",
     "status": "completed"
    },
    "tags": []
   },
   "outputs": [],
   "source": [
    "Drop_col=['Ticket','Parch','SibSp']\n",
    "train=train.drop(Drop_col,axis=1)\n",
    "test=test.drop(Drop_col,axis=1)\n",
    "train.drop('PassengerId',axis=1,inplace=True)\n",
    "train_data=train.drop('Survived',axis=1)\n",
    "Result=train['Survived']"
   ]
  },
  {
   "cell_type": "code",
   "execution_count": 48,
   "id": "micro-regard",
   "metadata": {
    "execution": {
     "iopub.execute_input": "2021-04-30T11:28:22.293063Z",
     "iopub.status.busy": "2021-04-30T11:28:22.292309Z",
     "iopub.status.idle": "2021-04-30T11:28:22.297846Z",
     "shell.execute_reply": "2021-04-30T11:28:22.298442Z"
    },
    "papermill": {
     "duration": 0.09139,
     "end_time": "2021-04-30T11:28:22.298657",
     "exception": false,
     "start_time": "2021-04-30T11:28:22.207267",
     "status": "completed"
    },
    "tags": []
   },
   "outputs": [
    {
     "data": {
      "text/plain": [
       "((891, 7), (891,))"
      ]
     },
     "execution_count": 48,
     "metadata": {},
     "output_type": "execute_result"
    }
   ],
   "source": [
    "train_data.shape,Result.shape"
   ]
  },
  {
   "cell_type": "code",
   "execution_count": 49,
   "id": "running-colorado",
   "metadata": {
    "execution": {
     "iopub.execute_input": "2021-04-30T11:28:22.473600Z",
     "iopub.status.busy": "2021-04-30T11:28:22.472492Z",
     "iopub.status.idle": "2021-04-30T11:28:22.479804Z",
     "shell.execute_reply": "2021-04-30T11:28:22.479077Z"
    },
    "papermill": {
     "duration": 0.09798,
     "end_time": "2021-04-30T11:28:22.480028",
     "exception": false,
     "start_time": "2021-04-30T11:28:22.382048",
     "status": "completed"
    },
    "tags": []
   },
   "outputs": [],
   "source": [
    "def score(cm):\n",
    "  x=cm[0][0]+cm[1][1]\n",
    "  y=cm[1][0]+cm[0][1]\n",
    "  return (x/(x+y))*100"
   ]
  },
  {
   "cell_type": "code",
   "execution_count": 50,
   "id": "velvet-certification",
   "metadata": {
    "execution": {
     "iopub.execute_input": "2021-04-30T11:28:22.656432Z",
     "iopub.status.busy": "2021-04-30T11:28:22.655311Z",
     "iopub.status.idle": "2021-04-30T11:28:23.298463Z",
     "shell.execute_reply": "2021-04-30T11:28:23.299083Z"
    },
    "papermill": {
     "duration": 0.734652,
     "end_time": "2021-04-30T11:28:23.299338",
     "exception": false,
     "start_time": "2021-04-30T11:28:22.564686",
     "status": "completed"
    },
    "tags": []
   },
   "outputs": [
    {
     "data": {
      "text/plain": [
       "array([[483,  66],\n",
       "       [101, 241]])"
      ]
     },
     "execution_count": 50,
     "metadata": {},
     "output_type": "execute_result"
    }
   ],
   "source": [
    "from sklearn.linear_model import LogisticRegression\n",
    "classifier=LogisticRegression()\n",
    "classifier.fit(train_data,Result)\n",
    "Pred=classifier.predict(train_data)\n",
    "from sklearn.metrics import confusion_matrix\n",
    "cm_logi=confusion_matrix(Result,Pred)\n",
    "cm_logi"
   ]
  },
  {
   "cell_type": "code",
   "execution_count": 51,
   "id": "color-sauce",
   "metadata": {
    "execution": {
     "iopub.execute_input": "2021-04-30T11:28:23.480243Z",
     "iopub.status.busy": "2021-04-30T11:28:23.479156Z",
     "iopub.status.idle": "2021-04-30T11:28:23.487689Z",
     "shell.execute_reply": "2021-04-30T11:28:23.487063Z"
    },
    "papermill": {
     "duration": 0.102525,
     "end_time": "2021-04-30T11:28:23.487859",
     "exception": false,
     "start_time": "2021-04-30T11:28:23.385334",
     "status": "completed"
    },
    "tags": []
   },
   "outputs": [
    {
     "data": {
      "text/plain": [
       "81.25701459034792"
      ]
     },
     "execution_count": 51,
     "metadata": {},
     "output_type": "execute_result"
    }
   ],
   "source": [
    "score(cm_logi)"
   ]
  },
  {
   "cell_type": "code",
   "execution_count": 52,
   "id": "divine-brooks",
   "metadata": {
    "execution": {
     "iopub.execute_input": "2021-04-30T11:28:23.668876Z",
     "iopub.status.busy": "2021-04-30T11:28:23.668021Z",
     "iopub.status.idle": "2021-04-30T11:28:23.817538Z",
     "shell.execute_reply": "2021-04-30T11:28:23.818128Z"
    },
    "papermill": {
     "duration": 0.245219,
     "end_time": "2021-04-30T11:28:23.818341",
     "exception": false,
     "start_time": "2021-04-30T11:28:23.573122",
     "status": "completed"
    },
    "tags": []
   },
   "outputs": [
    {
     "data": {
      "text/plain": [
       "81.25701459034792"
      ]
     },
     "execution_count": 52,
     "metadata": {},
     "output_type": "execute_result"
    }
   ],
   "source": [
    "from sklearn.neighbors import KNeighborsClassifier\n",
    "cf_KNN=KNeighborsClassifier(n_neighbors=5)\n",
    "cf_KNN.fit(train_data,Result)\n",
    "Pred_KNN=cf_KNN.predict(train_data)\n",
    "cm_KNN=confusion_matrix(Result,Pred_KNN)\n",
    "cm_KNN\n",
    "score(cm_logi)"
   ]
  },
  {
   "cell_type": "code",
   "execution_count": 53,
   "id": "another-technology",
   "metadata": {
    "execution": {
     "iopub.execute_input": "2021-04-30T11:28:23.999203Z",
     "iopub.status.busy": "2021-04-30T11:28:23.998376Z",
     "iopub.status.idle": "2021-04-30T11:28:24.002731Z",
     "shell.execute_reply": "2021-04-30T11:28:24.003248Z"
    },
    "papermill": {
     "duration": 0.099159,
     "end_time": "2021-04-30T11:28:24.003467",
     "exception": false,
     "start_time": "2021-04-30T11:28:23.904308",
     "status": "completed"
    },
    "tags": []
   },
   "outputs": [
    {
     "data": {
      "text/plain": [
       "85.52188552188552"
      ]
     },
     "execution_count": 53,
     "metadata": {},
     "output_type": "execute_result"
    }
   ],
   "source": [
    "score(cm_KNN)"
   ]
  },
  {
   "cell_type": "code",
   "execution_count": 54,
   "id": "outdoor-biology",
   "metadata": {
    "execution": {
     "iopub.execute_input": "2021-04-30T11:28:24.187604Z",
     "iopub.status.busy": "2021-04-30T11:28:24.186848Z",
     "iopub.status.idle": "2021-04-30T11:28:24.254323Z",
     "shell.execute_reply": "2021-04-30T11:28:24.253697Z"
    },
    "papermill": {
     "duration": 0.1642,
     "end_time": "2021-04-30T11:28:24.254486",
     "exception": false,
     "start_time": "2021-04-30T11:28:24.090286",
     "status": "completed"
    },
    "tags": []
   },
   "outputs": [
    {
     "data": {
      "text/plain": [
       "array([[465,  84],\n",
       "       [ 90, 252]])"
      ]
     },
     "execution_count": 54,
     "metadata": {},
     "output_type": "execute_result"
    }
   ],
   "source": [
    "from sklearn.svm import SVC\n",
    "cf_SVC=SVC(kernel='rbf')\n",
    "cf_SVC.fit(train_data,Result)\n",
    "Pred_SVC=cf_SVC.predict(train_data)\n",
    "cm_SVC=confusion_matrix(Result,Pred_SVC)\n",
    "cm_SVC"
   ]
  },
  {
   "cell_type": "code",
   "execution_count": 55,
   "id": "brief-adolescent",
   "metadata": {
    "execution": {
     "iopub.execute_input": "2021-04-30T11:28:24.425873Z",
     "iopub.status.busy": "2021-04-30T11:28:24.425025Z",
     "iopub.status.idle": "2021-04-30T11:28:24.431353Z",
     "shell.execute_reply": "2021-04-30T11:28:24.431866Z"
    },
    "papermill": {
     "duration": 0.094268,
     "end_time": "2021-04-30T11:28:24.432083",
     "exception": false,
     "start_time": "2021-04-30T11:28:24.337815",
     "status": "completed"
    },
    "tags": []
   },
   "outputs": [
    {
     "data": {
      "text/plain": [
       "80.47138047138047"
      ]
     },
     "execution_count": 55,
     "metadata": {},
     "output_type": "execute_result"
    }
   ],
   "source": [
    "score(cm_SVC)"
   ]
  },
  {
   "cell_type": "code",
   "execution_count": 56,
   "id": "victorian-quarter",
   "metadata": {
    "execution": {
     "iopub.execute_input": "2021-04-30T11:28:24.604552Z",
     "iopub.status.busy": "2021-04-30T11:28:24.603143Z",
     "iopub.status.idle": "2021-04-30T11:28:24.625144Z",
     "shell.execute_reply": "2021-04-30T11:28:24.624335Z"
    },
    "papermill": {
     "duration": 0.108368,
     "end_time": "2021-04-30T11:28:24.625328",
     "exception": false,
     "start_time": "2021-04-30T11:28:24.516960",
     "status": "completed"
    },
    "tags": []
   },
   "outputs": [
    {
     "data": {
      "text/plain": [
       "array([[401, 148],\n",
       "       [ 69, 273]])"
      ]
     },
     "execution_count": 56,
     "metadata": {},
     "output_type": "execute_result"
    }
   ],
   "source": [
    "from sklearn.naive_bayes import GaussianNB\n",
    "cf_NB=GaussianNB()\n",
    "cf_NB.fit(train_data,Result)\n",
    "Pred_NB=cf_NB.predict(train_data)\n",
    "cm_NB=confusion_matrix(Result,Pred_NB)\n",
    "cm_NB"
   ]
  },
  {
   "cell_type": "code",
   "execution_count": 57,
   "id": "dependent-instrumentation",
   "metadata": {
    "execution": {
     "iopub.execute_input": "2021-04-30T11:28:24.806657Z",
     "iopub.status.busy": "2021-04-30T11:28:24.805678Z",
     "iopub.status.idle": "2021-04-30T11:28:24.810783Z",
     "shell.execute_reply": "2021-04-30T11:28:24.811408Z"
    },
    "papermill": {
     "duration": 0.100816,
     "end_time": "2021-04-30T11:28:24.811665",
     "exception": false,
     "start_time": "2021-04-30T11:28:24.710849",
     "status": "completed"
    },
    "tags": []
   },
   "outputs": [
    {
     "data": {
      "text/plain": [
       "75.64534231200898"
      ]
     },
     "execution_count": 57,
     "metadata": {},
     "output_type": "execute_result"
    }
   ],
   "source": [
    "score(cm_NB)"
   ]
  },
  {
   "cell_type": "code",
   "execution_count": 58,
   "id": "ethical-stylus",
   "metadata": {
    "execution": {
     "iopub.execute_input": "2021-04-30T11:28:25.000269Z",
     "iopub.status.busy": "2021-04-30T11:28:24.999244Z",
     "iopub.status.idle": "2021-04-30T11:28:25.062653Z",
     "shell.execute_reply": "2021-04-30T11:28:25.061989Z"
    },
    "papermill": {
     "duration": 0.160567,
     "end_time": "2021-04-30T11:28:25.062858",
     "exception": false,
     "start_time": "2021-04-30T11:28:24.902291",
     "status": "completed"
    },
    "tags": []
   },
   "outputs": [
    {
     "data": {
      "text/plain": [
       "array([[527,  22],\n",
       "       [ 81, 261]])"
      ]
     },
     "execution_count": 58,
     "metadata": {},
     "output_type": "execute_result"
    }
   ],
   "source": [
    "from sklearn.tree import DecisionTreeClassifier\n",
    "cf_DT=DecisionTreeClassifier()\n",
    "cf_DT.fit(train_data,Result)\n",
    "Pred_DT=cf_DT.predict(train_data)\n",
    "cm_DT=confusion_matrix(Result,Pred_DT)\n",
    "cm_DT"
   ]
  },
  {
   "cell_type": "code",
   "execution_count": 59,
   "id": "starting-laugh",
   "metadata": {
    "execution": {
     "iopub.execute_input": "2021-04-30T11:28:25.250520Z",
     "iopub.status.busy": "2021-04-30T11:28:25.249583Z",
     "iopub.status.idle": "2021-04-30T11:28:25.254851Z",
     "shell.execute_reply": "2021-04-30T11:28:25.254179Z"
    },
    "papermill": {
     "duration": 0.099479,
     "end_time": "2021-04-30T11:28:25.255035",
     "exception": false,
     "start_time": "2021-04-30T11:28:25.155556",
     "status": "completed"
    },
    "tags": []
   },
   "outputs": [
    {
     "data": {
      "text/plain": [
       "88.43995510662177"
      ]
     },
     "execution_count": 59,
     "metadata": {},
     "output_type": "execute_result"
    }
   ],
   "source": [
    "score(cm_DT)"
   ]
  },
  {
   "cell_type": "code",
   "execution_count": 60,
   "id": "prostate-thought",
   "metadata": {
    "execution": {
     "iopub.execute_input": "2021-04-30T11:28:25.432989Z",
     "iopub.status.busy": "2021-04-30T11:28:25.432262Z",
     "iopub.status.idle": "2021-04-30T11:28:25.510645Z",
     "shell.execute_reply": "2021-04-30T11:28:25.511240Z"
    },
    "papermill": {
     "duration": 0.171178,
     "end_time": "2021-04-30T11:28:25.511480",
     "exception": false,
     "start_time": "2021-04-30T11:28:25.340302",
     "status": "completed"
    },
    "tags": []
   },
   "outputs": [
    {
     "data": {
      "text/plain": [
       "array([[516,  33],\n",
       "       [ 74, 268]])"
      ]
     },
     "execution_count": 60,
     "metadata": {},
     "output_type": "execute_result"
    }
   ],
   "source": [
    "from sklearn.ensemble import RandomForestClassifier\n",
    "cf_RF=RandomForestClassifier(n_estimators=10)\n",
    "cf_RF.fit(train_data,Result)\n",
    "Pred_RF=cf_RF.predict(train_data)\n",
    "cm_RF=confusion_matrix(Result,Pred_RF)\n",
    "cm_RF"
   ]
  },
  {
   "cell_type": "code",
   "execution_count": 61,
   "id": "cognitive-county",
   "metadata": {
    "execution": {
     "iopub.execute_input": "2021-04-30T11:28:25.692644Z",
     "iopub.status.busy": "2021-04-30T11:28:25.691901Z",
     "iopub.status.idle": "2021-04-30T11:28:25.698655Z",
     "shell.execute_reply": "2021-04-30T11:28:25.697984Z"
    },
    "papermill": {
     "duration": 0.097846,
     "end_time": "2021-04-30T11:28:25.698818",
     "exception": false,
     "start_time": "2021-04-30T11:28:25.600972",
     "status": "completed"
    },
    "tags": []
   },
   "outputs": [
    {
     "data": {
      "text/plain": [
       "87.99102132435466"
      ]
     },
     "execution_count": 61,
     "metadata": {},
     "output_type": "execute_result"
    }
   ],
   "source": [
    "score(cm_RF)"
   ]
  },
  {
   "cell_type": "code",
   "execution_count": 62,
   "id": "included-weapon",
   "metadata": {
    "execution": {
     "iopub.execute_input": "2021-04-30T11:28:25.886485Z",
     "iopub.status.busy": "2021-04-30T11:28:25.885700Z",
     "iopub.status.idle": "2021-04-30T11:28:25.893724Z",
     "shell.execute_reply": "2021-04-30T11:28:25.894296Z"
    },
    "papermill": {
     "duration": 0.108142,
     "end_time": "2021-04-30T11:28:25.894536",
     "exception": false,
     "start_time": "2021-04-30T11:28:25.786394",
     "status": "completed"
    },
    "tags": []
   },
   "outputs": [
    {
     "data": {
      "text/plain": [
       "array([0, 0, 0, 0, 0, 0, 1, 0, 1, 0, 0, 1, 1, 0, 1, 1, 0, 0, 0, 0, 0, 1,\n",
       "       1, 0, 1, 0, 1, 0, 0, 0, 0, 0, 1, 1, 0, 0, 0, 0, 0, 0, 0, 0, 0, 1,\n",
       "       1, 0, 1, 0, 1, 1, 0, 0, 0, 1, 0, 0, 0, 0, 0, 1, 0, 0, 0, 1, 1, 1,\n",
       "       1, 0, 1, 1, 1, 0, 0, 1, 1, 0, 0, 1, 0, 1, 1, 0, 1, 0, 0, 0, 1, 1,\n",
       "       1, 1, 0, 0, 1, 0, 0, 0, 1, 0, 0, 0, 1, 0, 0, 0, 1, 0, 0, 0, 0, 0,\n",
       "       0, 1, 0, 1, 1, 0, 0, 1, 1, 1, 1, 0, 1, 0, 0, 0, 0, 1, 0, 0, 0, 0,\n",
       "       1, 0, 0, 0, 0, 0, 0, 1, 0, 1, 0, 0, 1, 0, 1, 0, 1, 0, 1, 0, 0, 0,\n",
       "       0, 0, 1, 0, 0, 0, 1, 1, 1, 0, 0, 0, 0, 0, 1, 0, 0, 0, 0, 0, 0, 1,\n",
       "       0, 0, 1, 1, 0, 1, 1, 0, 1, 0, 0, 0, 0, 0, 0, 1, 1, 0, 1, 0, 1, 1,\n",
       "       0, 0, 1, 1, 1, 1, 0, 0, 0, 0, 0, 0, 0, 0, 0, 1, 0, 0, 1, 0, 1, 0,\n",
       "       1, 0, 1, 0, 1, 1, 0, 1, 0, 0, 0, 1, 0, 0, 1, 0, 0, 0, 1, 1, 1, 1,\n",
       "       0, 0, 0, 1, 1, 0, 1, 0, 1, 0, 0, 0, 0, 0, 0, 0, 1, 0, 0, 0, 1, 1,\n",
       "       1, 0, 0, 0, 0, 0, 1, 0, 1, 1, 0, 0, 0, 0, 0, 0, 0, 1, 1, 1, 0, 0,\n",
       "       0, 0, 0, 0, 0, 1, 0, 1, 0, 0, 1, 0, 0, 0, 0, 0, 0, 0, 1, 1, 0, 1,\n",
       "       0, 0, 0, 0, 0, 0, 1, 1, 0, 0, 0, 0, 0, 0, 0, 1, 1, 0, 1, 1, 0, 0,\n",
       "       1, 1, 0, 1, 0, 1, 0, 0, 0, 1, 0, 0, 0, 1, 1, 1, 0, 0, 0, 0, 1, 0,\n",
       "       0, 0, 0, 1, 1, 0, 0, 0, 0, 1, 1, 0, 1, 0, 0, 0, 1, 1, 0, 1, 0, 0,\n",
       "       1, 1, 0, 0, 0, 0, 0, 0, 0, 0, 0, 0, 0, 0, 0, 0, 0, 1, 0, 0, 0, 1,\n",
       "       0, 1, 0, 0, 1, 0, 1, 0, 1, 1, 0, 0, 1, 1, 1, 1, 0, 0, 1, 0, 0, 1])"
      ]
     },
     "execution_count": 62,
     "metadata": {},
     "output_type": "execute_result"
    }
   ],
   "source": [
    "test_data=test.drop('PassengerId',axis=1)\n",
    "Prediction=cf_RF.predict(test_data)\n",
    "Prediction"
   ]
  },
  {
   "cell_type": "code",
   "execution_count": 63,
   "id": "worthy-greensboro",
   "metadata": {
    "execution": {
     "iopub.execute_input": "2021-04-30T11:28:26.083759Z",
     "iopub.status.busy": "2021-04-30T11:28:26.083017Z",
     "iopub.status.idle": "2021-04-30T11:28:26.096964Z",
     "shell.execute_reply": "2021-04-30T11:28:26.097527Z"
    },
    "papermill": {
     "duration": 0.109637,
     "end_time": "2021-04-30T11:28:26.097773",
     "exception": false,
     "start_time": "2021-04-30T11:28:25.988136",
     "status": "completed"
    },
    "tags": []
   },
   "outputs": [
    {
     "data": {
      "text/html": [
       "<div>\n",
       "<style scoped>\n",
       "    .dataframe tbody tr th:only-of-type {\n",
       "        vertical-align: middle;\n",
       "    }\n",
       "\n",
       "    .dataframe tbody tr th {\n",
       "        vertical-align: top;\n",
       "    }\n",
       "\n",
       "    .dataframe thead th {\n",
       "        text-align: right;\n",
       "    }\n",
       "</style>\n",
       "<table border=\"1\" class=\"dataframe\">\n",
       "  <thead>\n",
       "    <tr style=\"text-align: right;\">\n",
       "      <th></th>\n",
       "      <th>PassengerId</th>\n",
       "      <th>Survived</th>\n",
       "    </tr>\n",
       "  </thead>\n",
       "  <tbody>\n",
       "    <tr>\n",
       "      <th>0</th>\n",
       "      <td>892</td>\n",
       "      <td>0</td>\n",
       "    </tr>\n",
       "    <tr>\n",
       "      <th>1</th>\n",
       "      <td>893</td>\n",
       "      <td>0</td>\n",
       "    </tr>\n",
       "    <tr>\n",
       "      <th>2</th>\n",
       "      <td>894</td>\n",
       "      <td>0</td>\n",
       "    </tr>\n",
       "    <tr>\n",
       "      <th>3</th>\n",
       "      <td>895</td>\n",
       "      <td>0</td>\n",
       "    </tr>\n",
       "    <tr>\n",
       "      <th>4</th>\n",
       "      <td>896</td>\n",
       "      <td>0</td>\n",
       "    </tr>\n",
       "    <tr>\n",
       "      <th>...</th>\n",
       "      <td>...</td>\n",
       "      <td>...</td>\n",
       "    </tr>\n",
       "    <tr>\n",
       "      <th>413</th>\n",
       "      <td>1305</td>\n",
       "      <td>0</td>\n",
       "    </tr>\n",
       "    <tr>\n",
       "      <th>414</th>\n",
       "      <td>1306</td>\n",
       "      <td>1</td>\n",
       "    </tr>\n",
       "    <tr>\n",
       "      <th>415</th>\n",
       "      <td>1307</td>\n",
       "      <td>0</td>\n",
       "    </tr>\n",
       "    <tr>\n",
       "      <th>416</th>\n",
       "      <td>1308</td>\n",
       "      <td>0</td>\n",
       "    </tr>\n",
       "    <tr>\n",
       "      <th>417</th>\n",
       "      <td>1309</td>\n",
       "      <td>1</td>\n",
       "    </tr>\n",
       "  </tbody>\n",
       "</table>\n",
       "<p>418 rows × 2 columns</p>\n",
       "</div>"
      ],
      "text/plain": [
       "     PassengerId  Survived\n",
       "0            892         0\n",
       "1            893         0\n",
       "2            894         0\n",
       "3            895         0\n",
       "4            896         0\n",
       "..           ...       ...\n",
       "413         1305         0\n",
       "414         1306         1\n",
       "415         1307         0\n",
       "416         1308         0\n",
       "417         1309         1\n",
       "\n",
       "[418 rows x 2 columns]"
      ]
     },
     "execution_count": 63,
     "metadata": {},
     "output_type": "execute_result"
    }
   ],
   "source": [
    "submission = pd.DataFrame({\"PassengerId\": test[\"PassengerId\"], \"Survived\": Prediction})\n",
    "submission"
   ]
  },
  {
   "cell_type": "code",
   "execution_count": 64,
   "id": "tight-winter",
   "metadata": {
    "execution": {
     "iopub.execute_input": "2021-04-30T11:28:26.283760Z",
     "iopub.status.busy": "2021-04-30T11:28:26.283002Z",
     "iopub.status.idle": "2021-04-30T11:28:26.301247Z",
     "shell.execute_reply": "2021-04-30T11:28:26.300289Z"
    },
    "papermill": {
     "duration": 0.114877,
     "end_time": "2021-04-30T11:28:26.301447",
     "exception": false,
     "start_time": "2021-04-30T11:28:26.186570",
     "status": "completed"
    },
    "tags": []
   },
   "outputs": [
    {
     "data": {
      "text/html": [
       "<div>\n",
       "<style scoped>\n",
       "    .dataframe tbody tr th:only-of-type {\n",
       "        vertical-align: middle;\n",
       "    }\n",
       "\n",
       "    .dataframe tbody tr th {\n",
       "        vertical-align: top;\n",
       "    }\n",
       "\n",
       "    .dataframe thead th {\n",
       "        text-align: right;\n",
       "    }\n",
       "</style>\n",
       "<table border=\"1\" class=\"dataframe\">\n",
       "  <thead>\n",
       "    <tr style=\"text-align: right;\">\n",
       "      <th></th>\n",
       "      <th>PassengerId</th>\n",
       "      <th>Survived</th>\n",
       "    </tr>\n",
       "  </thead>\n",
       "  <tbody>\n",
       "    <tr>\n",
       "      <th>0</th>\n",
       "      <td>892</td>\n",
       "      <td>0</td>\n",
       "    </tr>\n",
       "    <tr>\n",
       "      <th>1</th>\n",
       "      <td>893</td>\n",
       "      <td>0</td>\n",
       "    </tr>\n",
       "    <tr>\n",
       "      <th>2</th>\n",
       "      <td>894</td>\n",
       "      <td>0</td>\n",
       "    </tr>\n",
       "    <tr>\n",
       "      <th>3</th>\n",
       "      <td>895</td>\n",
       "      <td>0</td>\n",
       "    </tr>\n",
       "    <tr>\n",
       "      <th>4</th>\n",
       "      <td>896</td>\n",
       "      <td>0</td>\n",
       "    </tr>\n",
       "  </tbody>\n",
       "</table>\n",
       "</div>"
      ],
      "text/plain": [
       "   PassengerId  Survived\n",
       "0          892         0\n",
       "1          893         0\n",
       "2          894         0\n",
       "3          895         0\n",
       "4          896         0"
      ]
     },
     "execution_count": 64,
     "metadata": {},
     "output_type": "execute_result"
    }
   ],
   "source": [
    "submission.to_csv('submission.csv', index=False)\n",
    "submission = pd.read_csv('submission.csv')\n",
    "submission.head()"
   ]
  }
 ],
 "metadata": {
  "kernelspec": {
   "display_name": "Python 3",
   "language": "python",
   "name": "python3"
  },
  "language_info": {
   "codemirror_mode": {
    "name": "ipython",
    "version": 3
   },
   "file_extension": ".py",
   "mimetype": "text/x-python",
   "name": "python",
   "nbconvert_exporter": "python",
   "pygments_lexer": "ipython3",
   "version": "3.7.10"
  },
  "papermill": {
   "default_parameters": {},
   "duration": 33.296382,
   "end_time": "2021-04-30T11:28:28.449569",
   "environment_variables": {},
   "exception": null,
   "input_path": "__notebook__.ipynb",
   "output_path": "__notebook__.ipynb",
   "parameters": {},
   "start_time": "2021-04-30T11:27:55.153187",
   "version": "2.3.3"
  }
 },
 "nbformat": 4,
 "nbformat_minor": 5
}
